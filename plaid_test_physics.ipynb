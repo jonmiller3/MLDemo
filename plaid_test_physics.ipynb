{
 "cells": [
  {
   "cell_type": "code",
   "execution_count": 1,
   "metadata": {},
   "outputs": [
    {
     "name": "stderr",
     "output_type": "stream",
     "text": [
      "Using plaidml.keras.backend backend.\n"
     ]
    },
    {
     "name": "stdout",
     "output_type": "stream",
     "text": [
      "<module 'keras.metrics' from '/Users/jonathanmiller/plaidml-venv/lib/python2.7/site-packages/keras/metrics.pyc'> ['K', 'MAE', 'MAPE', 'MSE', 'MSLE', '__builtins__', '__doc__', '__file__', '__name__', '__package__', 'absolute_import', 'binary_accuracy', 'binary_crossentropy', 'categorical_accuracy', 'categorical_crossentropy', 'cosine', 'cosine_proximity', 'deserialize', 'deserialize_keras_object', 'division', 'get', 'hinge', 'kullback_leibler_divergence', 'logcosh', 'mae', 'mape', 'mean_absolute_error', 'mean_absolute_percentage_error', 'mean_squared_error', 'mean_squared_logarithmic_error', 'mse', 'msle', 'poisson', 'print_function', 'serialize', 'serialize_keras_object', 'six', 'sparse_categorical_accuracy', 'sparse_categorical_crossentropy', 'sparse_top_k_categorical_accuracy', 'squared_hinge', 'top_k_categorical_accuracy']\n",
      "<HDF5 file \"ccprotonpi0_me1A_00.hdf5\" (mode r)> ['_MutableMapping__marker', '__abstractmethods__', '__bool__', '__class__', '__contains__', '__delattr__', '__delitem__', '__dict__', '__doc__', '__enter__', '__eq__', '__exit__', '__format__', '__getattribute__', '__getitem__', '__hash__', '__init__', '__iter__', '__len__', '__metaclass__', '__module__', '__ne__', '__new__', '__nonzero__', '__reduce__', '__reduce_ex__', '__repr__', '__setattr__', '__setitem__', '__sizeof__', '__str__', '__subclasshook__', '__weakref__', '_abc_cache', '_abc_negative_cache', '_abc_negative_cache_version', '_abc_registry', '_d', '_e', '_gcpl_crt_order', '_id', '_lapl', '_lcpl', '_swmr_mode', 'attrs', 'clear', 'close', 'copy', 'create_dataset', 'create_group', 'driver', 'fid', 'file', 'filename', 'flush', 'get', 'id', 'items', 'iteritems', 'iterkeys', 'itervalues', 'keys', 'libver', 'mode', 'move', 'name', 'parent', 'pop', 'popitem', 'ref', 'regionref', 'require_dataset', 'require_group', 'setdefault', 'swmr_mode', 'update', 'userblock_size', 'values', 'visit', 'visititems'] [u'event_data', u'gen_data', u'hadro_data', u'img_data', u'lepto_data', u'pid3_data', u'pid_data', u'vtx_data', u'w_data']\n",
      "(8000, 2, 127, 94)\n",
      "(8000, 127, 94, 2)\n",
      "(1000, 2, 127, 94)\n",
      "(1000, 127, 94, 2)\n"
     ]
    }
   ],
   "source": [
    "import numpy as np\n",
    "import os\n",
    "import time\n",
    "\n",
    "os.environ[\"KERAS_BACKEND\"] = \"plaidml.keras.backend\"\n",
    "\n",
    "import keras\n",
    "import keras.applications as kapp\n",
    "\n",
    "from keras.layers import Input, Conv2D, MaxPooling2D, Dense, Activation, Dropout, Flatten\n",
    "from keras.optimizers import SGD\n",
    "\n",
    "from keras.models import Sequential\n",
    "\n",
    "import png as png\n",
    "from keras import metrics\n",
    "\n",
    "print metrics,dir(metrics)\n",
    "from keras import backend as K\n",
    "\n",
    "import h5py\n",
    "\n",
    "def load_dataset(hdf5_in):\n",
    "    \"\"\"Load energy+times and pid data.\"\"\"\n",
    "    f = h5py.File(hdf5_in, 'r')\n",
    "    try:\n",
    "        return f['img_data']['hitimes-x'], f[\"pid_data\"][\"pid-x\"], f[\"hadro_data\"][\"n_neutpions\"]\n",
    "    except KeyError:\n",
    "        return f['hitimes-x'], f['pid-x']\n",
    "\n",
    "filename = 'ccprotonpi0_me1A_00.hdf5'\n",
    "\n",
    "f = h5py.File(filename, 'r')\n",
    "print f,dir(f),f.keys()\n",
    "max_evts = 8000\n",
    "test_evts = 1000\n",
    "\n",
    "data_x_shp = np.shape(f['img_data']['hitimes-x'])\n",
    "data_x = np.zeros(data_x_shp, dtype='f')\n",
    "data_x=f['img_data']['hitimes-x'][:max_evts]\n",
    "print data_x.shape\n",
    "data_x_reshape = np.transpose(data_x,(0,2,3,1))\n",
    "print data_x_reshape.shape\n",
    "\n",
    "test_x_shp = np.shape(f['img_data']['hitimes-x'])\n",
    "test_x = np.zeros(test_x_shp, dtype='f')\n",
    "test_x=f['img_data']['hitimes-x'][max_evts:max_evts+test_evts]\n",
    "print test_x.shape\n",
    "test_x_reshape = np.transpose(test_x,(0,2,3,1))\n",
    "print test_x_reshape.shape\n",
    "\n",
    "labelraw1_shp=np.shape(f['gen_data']['W'])\n",
    "labelraw1=np.zeros(labelraw1_shp,dtype='f')\n",
    "labelraw1=f['gen_data']['W'][:max_evts]\n",
    "\n",
    "label_shp=np.shape(f['gen_data']['int_type'])\n",
    "label=np.zeros(label_shp,dtype='f')\n",
    "label=f['gen_data']['int_type'][:max_evts]\n",
    "\n",
    "tlabel_shp=np.shape(f['gen_data']['int_type'])\n",
    "tlabel=np.zeros(tlabel_shp,dtype='f')\n",
    "tlabel=f['gen_data']['int_type'][max_evts:max_evts+test_evts]\n",
    "\n",
    "labelraw2_shp=np.shape(f['gen_data']['Q2'])\n",
    "labelraw2=np.zeros(labelraw2_shp,dtype='f')\n",
    "labelraw2=f['gen_data']['Q2'][:max_evts]\n",
    "\n",
    "tlabelraw1_shp=np.shape(f['gen_data']['W'])\n",
    "tlabelraw1=np.zeros(tlabelraw1_shp,dtype='f')\n",
    "tlabelraw1=f['gen_data']['W'][:max_evts]\n",
    "\n",
    "tlabelraw2_shp=np.shape(f['gen_data']['Q2'])\n",
    "tlabelraw2=np.zeros(tlabelraw2_shp,dtype='f')\n",
    "tlabelraw2=f['gen_data']['Q2'][:max_evts]\n",
    "\n",
    "\n",
    "import math\n",
    "def combinelabel(q2,w):\n",
    "    if (math.sqrt(q2)>1000 and w > 2000):\n",
    "        return 1\n",
    "    else:\n",
    "        return 0\n",
    "\n",
    "vcombinelabel = np.vectorize(combinelabel)\n",
    "#label=vcombinelabel(labelraw2,labelraw1)\n",
    "\n",
    "num_classes=11\n",
    "\n",
    "batch_size = 40\n",
    "testb_size = 40\n",
    "\n",
    "epochs = 4"
   ]
  },
  {
   "cell_type": "markdown",
   "metadata": {},
   "source": [
    "I didn't get a nice data input setup. We are currently using larcv ( http://deeplearnphysics.org/Blog/tutorials/tutorial-01.html ) and caffe (not pycaffe). Caffe you provide it the hdf5 file list and the keys. Larcv also has some nice input algorithms. There is probably an easy way to do this with keras that I did not know."
   ]
  },
  {
   "cell_type": "code",
   "execution_count": 2,
   "metadata": {},
   "outputs": [
    {
     "name": "stdout",
     "output_type": "stream",
     "text": [
      "(127, 94)\n",
      "(127, 94)\n",
      "(127, 94)\n",
      "(127, 94)\n",
      "(127, 94)\n",
      "(127, 94)\n",
      "(127, 94)\n",
      "(127, 94)\n",
      "(127, 94)\n",
      "(127, 94)\n"
     ]
    }
   ],
   "source": [
    "def scaleimage(a):\n",
    "    try:\n",
    "        maxa=np.amax(a)\n",
    "    except ValueError:\n",
    "        return a\n",
    "    if maxa==0:\n",
    "        return a\n",
    "    b=a/maxa\n",
    "    b=b*255\n",
    "    return b\n",
    "    \n",
    "for i in range(10):\n",
    "    features_i = data_x[i,::]\n",
    "    #print features_i.shape\n",
    "    #features_i=np.transpose(features_i,(3,1,2))\n",
    "    features_i=features_i[0]\n",
    "    #mag=2\n",
    "    print features_i.shape\n",
    "    im = scaleimage(features_i)\n",
    "    #im = np.repeat(np.repeat(im, mag, axis=0), mag, axis=1)\n",
    "    #im = np.transpose(features_i,(1,2))\n",
    "    height, width = im.shape\n",
    "    #print im,im.shape\n",
    "    name = str(i)+'testinput.png'\n",
    "    fpng = open(name, 'wb')\n",
    "    w = png.Writer(width,height)\n",
    "    pngWriter = png.Writer(width, height,\n",
    "                           greyscale=True,\n",
    "                           alpha=False,\n",
    "                           bitdepth=16)\n",
    "    w.write(fpng,np.reshape(im, (-1, width*1)))\n",
    "    fpng.close()\n",
    "    \n",
    "data_x=data_x_reshape\n",
    "test_x=test_x_reshape\n",
    "\n"
   ]
  },
  {
   "cell_type": "markdown",
   "metadata": {},
   "source": [
    "We can make images as before. The scaling can make us unable or able to see things. Matplotlib is easier for the printing of pictures."
   ]
  },
  {
   "cell_type": "code",
   "execution_count": 3,
   "metadata": {},
   "outputs": [
    {
     "data": {
      "image/png": "[encoded data removed]",
      "text/plain": [
       "<IPython.core.display.Image object>"
      ]
     },
     "execution_count": 3,
     "metadata": {},
     "output_type": "execute_result"
    }
   ],
   "source": [
    "from IPython.display import Image\n",
    "\n",
    "Image(filename='1testinput.png') "
   ]
  },
  {
   "cell_type": "code",
   "execution_count": 4,
   "metadata": {},
   "outputs": [
    {
     "data": {
      "image/png": "[encoded data removed]",
      "text/plain": [
       "<IPython.core.display.Image object>"
      ]
     },
     "execution_count": 4,
     "metadata": {},
     "output_type": "execute_result"
    }
   ],
   "source": [
    "Image(filename='2testinput.png') "
   ]
  },
  {
   "cell_type": "code",
   "execution_count": 5,
   "metadata": {},
   "outputs": [
    {
     "data": {
      "image/png": "[encoded data removed]",
      "text/plain": [
       "<IPython.core.display.Image object>"
      ]
     },
     "execution_count": 5,
     "metadata": {},
     "output_type": "execute_result"
    }
   ],
   "source": [
    "Image(filename='0testinput.png') "
   ]
  },
  {
   "cell_type": "code",
   "execution_count": 6,
   "metadata": {},
   "outputs": [
    {
     "data": {
      "image/png": "[encoded data removed]",
      "text/plain": [
       "<IPython.core.display.Image object>"
      ]
     },
     "execution_count": 6,
     "metadata": {},
     "output_type": "execute_result"
    }
   ],
   "source": [
    "Image(filename='3testinput.png') "
   ]
  },
  {
   "cell_type": "code",
   "execution_count": 7,
   "metadata": {},
   "outputs": [
    {
     "data": {
      "image/png": "[encoded data removed]",
      "text/plain": [
       "<IPython.core.display.Image object>"
      ]
     },
     "execution_count": 7,
     "metadata": {},
     "output_type": "execute_result"
    }
   ],
   "source": [
    "Image(filename='4testinput.png') "
   ]
  },
  {
   "cell_type": "code",
   "execution_count": 8,
   "metadata": {},
   "outputs": [
    {
     "data": {
      "image/png": "[encoded data removed]",
      "text/plain": [
       "<IPython.core.display.Image object>"
      ]
     },
     "execution_count": 8,
     "metadata": {},
     "output_type": "execute_result"
    }
   ],
   "source": [
    "Image(filename='5testinput.png') "
   ]
  },
  {
   "cell_type": "code",
   "execution_count": 9,
   "metadata": {},
   "outputs": [
    {
     "data": {
      "image/png": "[encoded data removed]",
      "text/plain": [
       "<IPython.core.display.Image object>"
      ]
     },
     "execution_count": 9,
     "metadata": {},
     "output_type": "execute_result"
    }
   ],
   "source": [
    "Image(filename='6testinput.png') "
   ]
  },
  {
   "cell_type": "code",
   "execution_count": 10,
   "metadata": {},
   "outputs": [
    {
     "data": {
      "image/png": "[encoded data removed]",
      "text/plain": [
       "<IPython.core.display.Image object>"
      ]
     },
     "execution_count": 10,
     "metadata": {},
     "output_type": "execute_result"
    }
   ],
   "source": [
    "Image(filename='7testinput.png') "
   ]
  },
  {
   "cell_type": "code",
   "execution_count": 11,
   "metadata": {},
   "outputs": [
    {
     "data": {
      "image/png": "[encoded data removed]",
      "text/plain": [
       "<IPython.core.display.Image object>"
      ]
     },
     "execution_count": 11,
     "metadata": {},
     "output_type": "execute_result"
    }
   ],
   "source": [
    " Image(filename='8testinput.png') "
   ]
  },
  {
   "cell_type": "code",
   "execution_count": 12,
   "metadata": {},
   "outputs": [
    {
     "data": {
      "image/png": "[encoded data removed]",
      "text/plain": [
       "<IPython.core.display.Image object>"
      ]
     },
     "execution_count": 12,
     "metadata": {},
     "output_type": "execute_result"
    }
   ],
   "source": [
    " Image(filename='9testinput.png') "
   ]
  },
  {
   "cell_type": "code",
   "execution_count": 13,
   "metadata": {},
   "outputs": [],
   "source": [
    "tlabel = keras.utils.to_categorical(tlabel, num_classes)\n",
    "label = keras.utils.to_categorical(label, num_classes)"
   ]
  },
  {
   "cell_type": "markdown",
   "metadata": {},
   "source": [
    "This is the translation from list of labels to a label matrix. We definitely could have done something a lot more interesting here if we desired to. I sorta just guessed about classes since I do not know the GENIE interaction types well."
   ]
  },
  {
   "cell_type": "code",
   "execution_count": 14,
   "metadata": {},
   "outputs": [
    {
     "name": "stderr",
     "output_type": "stream",
     "text": [
      "INFO:plaidml:Opening device \"metal_intel(r)_iris(tm)_plus_graphics_640.0\"\n"
     ]
    },
    {
     "name": "stdout",
     "output_type": "stream",
     "text": [
      "_________________________________________________________________\n",
      "Layer (type)                 Output Shape              Param #   \n",
      "=================================================================\n",
      "conv2d_1 (Conv2D)            (None, 125, 92, 8)        152       \n",
      "_________________________________________________________________\n",
      "conv2d_2 (Conv2D)            (None, 123L, 90L, 8)      584       \n",
      "_________________________________________________________________\n",
      "max_pooling2d_1 (MaxPooling2 (None, 30L, 22L, 8L)      0         \n",
      "_________________________________________________________________\n",
      "dropout_1 (Dropout)          (None, 30L, 22L, 8L)      0         \n",
      "_________________________________________________________________\n",
      "conv2d_3 (Conv2D)            (None, 28L, 20L, 16)      1168      \n",
      "_________________________________________________________________\n",
      "conv2d_4 (Conv2D)            (None, 26L, 18L, 16)      2320      \n",
      "_________________________________________________________________\n",
      "max_pooling2d_2 (MaxPooling2 (None, 6L, 4L, 16L)       0         \n",
      "_________________________________________________________________\n",
      "dropout_2 (Dropout)          (None, 6L, 4L, 16L)       0         \n",
      "_________________________________________________________________\n",
      "flatten_1 (Flatten)          (None, 384)               0         \n",
      "_________________________________________________________________\n",
      "dense_1 (Dense)              (None, 18)                6930      \n",
      "_________________________________________________________________\n",
      "dropout_3 (Dropout)          (None, 18L)               0         \n",
      "_________________________________________________________________\n",
      "dense_2 (Dense)              (None, 18)                342       \n",
      "_________________________________________________________________\n",
      "dense_3 (Dense)              (None, 11)                209       \n",
      "=================================================================\n",
      "Total params: 11,705\n",
      "Trainable params: 11,705\n",
      "Non-trainable params: 0\n",
      "_________________________________________________________________\n"
     ]
    }
   ],
   "source": [
    "model = Sequential()\n",
    "\n",
    "firstlayer=Conv2D(8, (3, 3), activation='relu', input_shape=(127, 94, 2))\n",
    "model.add(firstlayer)\n",
    "model.add(Conv2D(8, (3, 3), activation='relu'))\n",
    "model.add(MaxPooling2D(pool_size=(4, 4)))\n",
    "model.add(Dropout(0.25))\n",
    "\n",
    "\n",
    "model.add(Conv2D(16, (3, 3), activation='relu'))\n",
    "model.add(Conv2D(16, (3, 3), activation='relu'))\n",
    "\n",
    "model.add(MaxPooling2D(pool_size=(4, 4)))\n",
    "model.add(Dropout(0.25))\n",
    "\n",
    "model.add(Flatten())\n",
    "model.add(Dense(18, activation='relu'))\n",
    "model.add(Dropout(0.5))\n",
    "model.add(Dense(18, activation='relu'))\n",
    "model.add(Dense(num_classes, activation='softmax'))\n",
    "\n",
    "sgd = SGD(lr=0.01, decay=1e-6, momentum=0.9, nesterov=True)\n",
    "model.compile(loss='mean_squared_error', optimizer=sgd,metrics=['categorical_accuracy'])\n",
    "model.summary()"
   ]
  },
  {
   "cell_type": "markdown",
   "metadata": {},
   "source": [
    "I only wanted to test things on one file, so this is not really a big data dataset. Because of this I put in some pretty powerful maxpooling and cut down the later dense layers. This is assuredly not want you want to do in general."
   ]
  },
  {
   "cell_type": "code",
   "execution_count": 15,
   "metadata": {},
   "outputs": [],
   "source": [
    "data_x = data_x.astype('float32')\n",
    "test_x = test_x.astype('float32')\n",
    "\n",
    "data_x = scaleimage(data_x)\n",
    "test_x = scaleimage(test_x)"
   ]
  },
  {
   "cell_type": "code",
   "execution_count": 16,
   "metadata": {},
   "outputs": [],
   "source": [
    "firstlayerw = firstlayer.get_weights()[0][:,:,0,:]\n",
    "for i in range(2):\n",
    "    name = str(i)+'testinputkernely.png'\n",
    "    fpng = open(name, 'wb')\n",
    "    mag=100\n",
    "    w = png.Writer(3*mag,3*mag)\n",
    "    im = np.repeat(np.repeat(firstlayerw[:,:,i]+0.5, mag, axis=0), mag, axis=1)\n",
    "    im=im*255\n",
    "    #print firstlayerw[:,:,i],firstlayerw[:,:,i].shape\n",
    "    #print im,im.shape\n",
    "    pngWriter = png.Writer(width, height,\n",
    "                           greyscale=True,\n",
    "                           alpha=False,\n",
    "                           bitdepth=16)\n",
    "    w.write(fpng,im)\n",
    "    fpng.close()"
   ]
  },
  {
   "cell_type": "code",
   "execution_count": 17,
   "metadata": {},
   "outputs": [
    {
     "data": {
      "image/png": "[encoded data removed]",
      "text/plain": [
       "<IPython.core.display.Image object>"
      ]
     },
     "execution_count": 17,
     "metadata": {},
     "output_type": "execute_result"
    }
   ],
   "source": [
    "Image(filename='0testinputkernely.png')"
   ]
  },
  {
   "cell_type": "code",
   "execution_count": 18,
   "metadata": {},
   "outputs": [
    {
     "data": {
      "image/png": "[encoded data removed]",
      "text/plain": [
       "<IPython.core.display.Image object>"
      ]
     },
     "execution_count": 18,
     "metadata": {},
     "output_type": "execute_result"
    }
   ],
   "source": [
    "Image(filename='1testinputkernely.png')"
   ]
  },
  {
   "cell_type": "markdown",
   "metadata": {},
   "source": [
    "Same type of kernels as before."
   ]
  },
  {
   "cell_type": "code",
   "execution_count": 19,
   "metadata": {},
   "outputs": [
    {
     "name": "stdout",
     "output_type": "stream",
     "text": [
      "(8000, 127, 94, 2) (8000, 11) (1000, 127, 94, 2) (1000, 11)\n",
      "Train on 8000 samples, validate on 1000 samples\n",
      "Epoch 1/4\n"
     ]
    },
    {
     "name": "stderr",
     "output_type": "stream",
     "text": [
      "INFO:plaidml:Analyzing Ops: 211 of 280 operations complete\n"
     ]
    },
    {
     "name": "stdout",
     "output_type": "stream",
     "text": [
      "8000/8000 [==============================] - 119s 15ms/step - loss: 0.0715 - categorical_accuracy: 0.4316 - val_loss: 0.0523 - val_categorical_accuracy: 0.6540\n",
      "Epoch 2/4\n",
      "8000/8000 [==============================] - 116s 15ms/step - loss: 0.0535 - categorical_accuracy: 0.6496 - val_loss: 0.0496 - val_categorical_accuracy: 0.6540\n",
      "Epoch 3/4\n",
      "8000/8000 [==============================] - 117s 15ms/step - loss: 0.0514 - categorical_accuracy: 0.6560 - val_loss: 0.0487 - val_categorical_accuracy: 0.6540\n",
      "Epoch 4/4\n",
      "8000/8000 [==============================] - 117s 15ms/step - loss: 0.0503 - categorical_accuracy: 0.6584 - val_loss: 0.0495 - val_categorical_accuracy: 0.6540\n"
     ]
    }
   ],
   "source": [
    "print data_x.shape,label.shape,test_x.shape,tlabel.shape\n",
    "history=model.fit(data_x, label,\n",
    "          batch_size=batch_size,\n",
    "          epochs=epochs,\n",
    "          validation_data=(test_x, tlabel),\n",
    "                 shuffle=True)"
   ]
  },
  {
   "cell_type": "code",
   "execution_count": 20,
   "metadata": {},
   "outputs": [
    {
     "name": "stdout",
     "output_type": "stream",
     "text": [
      "Welcome to JupyROOT 6.14/04\n"
     ]
    }
   ],
   "source": [
    "inp = model.input                                           # input placeholder\n",
    "outputs = [layer.output for layer in model.layers]          # all layer outputs\n",
    "functor = K.function([inp]+ [K.learning_phase()], outputs ) # evaluation function\n",
    "import ROOT as rt"
   ]
  },
  {
   "cell_type": "code",
   "execution_count": 47,
   "metadata": {},
   "outputs": [
    {
     "name": "stdout",
     "output_type": "stream",
     "text": [
      "['val_categorical_accuracy', 'loss', 'categorical_accuracy', 'val_loss']\n",
      "['AddressOf', 'MakeNullPointer', 'PyConfig', 'SetMemoryPolicy', 'SetOwnership', 'SetSignalPolicy', 'TBufferJSON', 'TCanvas', 'TGraph', 'TROOT', 'Template', '_TTabComHook', '__doc__', '__file__', '__name__', 'cout', 'disableJSVis', 'disableJSVisDebug', 'enableJSVis', 'enableJSVisDebug', 'gInterpreter', 'gROOT', 'gSystem', 'kMemoryHeuristics', 'kMemoryStrict', 'kSignalFast', 'kSignalSafe', 'keeppolling', 'module', 'std']\n",
      "<type 'numpy.ndarray'>\n",
      "<type 'list'>\n"
     ]
    },
    {
     "name": "stderr",
     "output_type": "stream",
     "text": [
      "Warning in <TCanvas::Constructor>: Deleting canvas with same name: c1\n",
      "Warning in <TCanvas::Constructor>: Deleting canvas with same name: c2\n"
     ]
    },
    {
     "data": {
      "image/png": "[encoded data removed]",
      "text/plain": [
       "<IPython.core.display.Image object>"
      ]
     },
     "metadata": {},
     "output_type": "display_data"
    },
    {
     "data": {
      "image/png": "[encoded data removed]",
      "text/plain": [
       "<IPython.core.display.Image object>"
      ]
     },
     "metadata": {},
     "output_type": "display_data"
    }
   ],
   "source": [
    "print(history.history.keys())\n",
    "c1=rt.TCanvas( 'c1', 'c1', 200, 10, 700, 900 )\n",
    "print dir(rt)\n",
    "epocharray=np.arange(epochs) \n",
    "print type(epocharray)\n",
    "print type(history.history['categorical_accuracy'])\n",
    "gr1=rt.TGraph(epochs,epocharray.astype(float),np.asarray(history.history['categorical_accuracy'],float))\n",
    "gr2=rt.TGraph(epochs,epocharray.astype(float),np.asarray(history.history['val_categorical_accuracy'],float))\n",
    "gr3=rt.TGraph(epochs,epocharray.astype(float),np.asarray(history.history['loss'],float))\n",
    "gr4=rt.TGraph(epochs,epocharray.astype(float),np.asarray(history.history['val_loss'],float))\n",
    "\n",
    "gr1.Draw(\"\")\n",
    "gr2.Draw(\"same\")\n",
    "c1.Modified()\n",
    "c1.Update()\n",
    "c2=rt.TCanvas( 'c2', 'c2', 200, 10, 700, 900 )\n",
    "gr3.Draw(\"\")\n",
    "gr4.Draw(\"same\")\n",
    "c2.Modified()\n",
    "c2.Update()\n",
    "\n",
    "rt.gROOT.GetListOfCanvases().Draw()"
   ]
  },
  {
   "cell_type": "markdown",
   "metadata": {},
   "source": [
    "Even in only 3 epochs we see some reasonable behavior. There are more parameters than data so we don't expect this to be a great application (also we have too many classes)."
   ]
  },
  {
   "cell_type": "code",
   "execution_count": 22,
   "metadata": {},
   "outputs": [
    {
     "name": "stdout",
     "output_type": "stream",
     "text": [
      "(127, 94, 2)\n",
      "(2, 127, 94)\n",
      "(127, 94)\n",
      "(127, 94, 2)\n",
      "(2, 127, 94)\n",
      "(127, 94)\n",
      "(127, 94, 2)\n",
      "(2, 127, 94)\n",
      "(127, 94)\n"
     ]
    }
   ],
   "source": [
    "spec_x = data_x[:9]\n",
    "for i in range(3):\n",
    "    features_i = spec_x[i,::]\n",
    "    print features_i.shape\n",
    "    features_i=np.transpose(features_i,(2,0,1))\n",
    "    print features_i.shape\n",
    "    features_i=features_i[0]\n",
    "    #mag=2\n",
    "    print features_i.shape\n",
    "    im = scaleimage(features_i)\n",
    "    #im = np.repeat(np.repeat(im, mag, axis=0), mag, axis=1)\n",
    "    #im = np.transpose(features_i,(1,2))\n",
    "    height, width = im.shape\n",
    "    #print im,im.shape\n",
    "    name = str(i)+'testinputpic.png'\n",
    "    fpng = open(name, 'wb')\n",
    "    w = png.Writer(width,height)\n",
    "    pngWriter = png.Writer(width, height,\n",
    "                           greyscale=True,\n",
    "                           alpha=False,\n",
    "                           bitdepth=16)\n",
    "    w.write(fpng,np.reshape(im, (-1, width*1)))\n",
    "    fpng.close()\n",
    "    \n"
   ]
  },
  {
   "cell_type": "code",
   "execution_count": 23,
   "metadata": {},
   "outputs": [
    {
     "data": {
      "image/png": "[encoded data removed]",
      "text/plain": [
       "<IPython.core.display.Image object>"
      ]
     },
     "execution_count": 23,
     "metadata": {},
     "output_type": "execute_result"
    }
   ],
   "source": [
    "Image(filename='0testinputpic.png')"
   ]
  },
  {
   "cell_type": "code",
   "execution_count": 24,
   "metadata": {},
   "outputs": [
    {
     "data": {
      "image/png": "[encoded data removed]",
      "text/plain": [
       "<IPython.core.display.Image object>"
      ]
     },
     "execution_count": 24,
     "metadata": {},
     "output_type": "execute_result"
    }
   ],
   "source": [
    "Image(filename='1testinputpic.png')"
   ]
  },
  {
   "cell_type": "code",
   "execution_count": 25,
   "metadata": {},
   "outputs": [
    {
     "data": {
      "image/png": "[encoded data removed]",
      "text/plain": [
       "<IPython.core.display.Image object>"
      ]
     },
     "execution_count": 25,
     "metadata": {},
     "output_type": "execute_result"
    }
   ],
   "source": [
    "Image(filename='2testinputpic.png')"
   ]
  },
  {
   "cell_type": "code",
   "execution_count": 26,
   "metadata": {},
   "outputs": [
    {
     "name": "stdout",
     "output_type": "stream",
     "text": [
      "(9, 127, 94, 2)\n",
      "(9, 127, 94, 2)\n",
      "(9, 127, 94, 2)\n",
      "(9, 127, 94, 2)\n",
      "(9, 127, 94, 2)\n",
      "(9, 127, 94, 2)\n",
      "(9, 127, 94, 2)\n"
     ]
    }
   ],
   "source": [
    "layer_outs = functor([spec_x, 1.])\n",
    "\n",
    "for i in range(7):\n",
    "    print spec_x.shape\n",
    "    features_i = layer_outs[0][2]*7\n",
    "    #print features_i.shape\n",
    "    #mag=7\n",
    "    #print features_i\n",
    "    #features_i = np.repeat(np.repeat(features_i, mag, axis=0), mag, axis=1)\n",
    "    im = np.transpose(features_i,(2,1,0))\n",
    "    #print im.shape,im[i].shape\n",
    "    #im = np.transpose(im[0],(2,1,0))\n",
    "    height, width =im[i].shape\n",
    "    name = str(i)+'testoutputpic.png'\n",
    "    fpng = open(name, 'wb')\n",
    "    #print width,height\n",
    "    w = png.Writer(width,height)\n",
    "    imi = np.reshape(im[i], (-1, width*1))\n",
    "    #print imi,imi.shape\n",
    "    pngWriter = png.Writer(width, height,\n",
    "                           greyscale=True,\n",
    "                           alpha=False,\n",
    "                           bitdepth=16)\n",
    "    #w.write(fpng,np.reshape(im[i], (-1, height*1)))\n",
    "    w.write(fpng,imi)\n",
    "\n",
    "\n",
    "    fpng.close()"
   ]
  },
  {
   "cell_type": "code",
   "execution_count": 27,
   "metadata": {},
   "outputs": [
    {
     "data": {
      "image/png": "[encoded data removed]",
      "text/plain": [
       "<IPython.core.display.Image object>"
      ]
     },
     "execution_count": 27,
     "metadata": {},
     "output_type": "execute_result"
    }
   ],
   "source": [
    "Image(filename='0testoutputpic.png')"
   ]
  },
  {
   "cell_type": "code",
   "execution_count": 28,
   "metadata": {},
   "outputs": [
    {
     "data": {
      "image/png": "[encoded data removed]",
      "text/plain": [
       "<IPython.core.display.Image object>"
      ]
     },
     "execution_count": 28,
     "metadata": {},
     "output_type": "execute_result"
    }
   ],
   "source": [
    "Image(filename='1testoutputpic.png')"
   ]
  },
  {
   "cell_type": "code",
   "execution_count": 29,
   "metadata": {},
   "outputs": [
    {
     "data": {
      "image/png": "[encoded data removed]",
      "text/plain": [
       "<IPython.core.display.Image object>"
      ]
     },
     "execution_count": 29,
     "metadata": {},
     "output_type": "execute_result"
    }
   ],
   "source": [
    "Image(filename='2testoutputpic.png')"
   ]
  },
  {
   "cell_type": "code",
   "execution_count": 30,
   "metadata": {},
   "outputs": [
    {
     "data": {
      "image/png": "[encoded data removed]",
      "text/plain": [
       "<IPython.core.display.Image object>"
      ]
     },
     "execution_count": 30,
     "metadata": {},
     "output_type": "execute_result"
    }
   ],
   "source": [
    "Image(filename='3testoutputpic.png')"
   ]
  },
  {
   "cell_type": "code",
   "execution_count": 31,
   "metadata": {},
   "outputs": [
    {
     "data": {
      "image/png": "[encoded data removed]",
      "text/plain": [
       "<IPython.core.display.Image object>"
      ]
     },
     "execution_count": 31,
     "metadata": {},
     "output_type": "execute_result"
    }
   ],
   "source": [
    "Image(filename='4testoutputpic.png')"
   ]
  },
  {
   "cell_type": "code",
   "execution_count": 32,
   "metadata": {},
   "outputs": [
    {
     "data": {
      "image/png": "[encoded data removed]",
      "text/plain": [
       "<IPython.core.display.Image object>"
      ]
     },
     "execution_count": 32,
     "metadata": {},
     "output_type": "execute_result"
    }
   ],
   "source": [
    "Image(filename='5testoutputpic.png')"
   ]
  },
  {
   "cell_type": "code",
   "execution_count": 33,
   "metadata": {},
   "outputs": [
    {
     "data": {
      "image/png": "[encoded data removed]",
      "text/plain": [
       "<IPython.core.display.Image object>"
      ]
     },
     "execution_count": 33,
     "metadata": {},
     "output_type": "execute_result"
    }
   ],
   "source": [
    "Image(filename='6testoutputpic.png')"
   ]
  },
  {
   "cell_type": "markdown",
   "metadata": {},
   "source": [
    "Probably every image should be scaled, as you can see things better or less well as you adjust the scaling. I would say that it is a good idea to adjust this but I think you should just do better individual scaling. Or use matplotlib."
   ]
  },
  {
   "cell_type": "code",
   "execution_count": 34,
   "metadata": {},
   "outputs": [
    {
     "name": "stdout",
     "output_type": "stream",
     "text": [
      "(9, 127, 94, 2)\n",
      "(9, 127, 94, 2)\n",
      "(9, 127, 94, 2)\n",
      "(9, 127, 94, 2)\n",
      "(9, 127, 94, 2)\n",
      "(9, 127, 94, 2)\n",
      "(9, 127, 94, 2)\n"
     ]
    }
   ],
   "source": [
    "for i in range(7):\n",
    "    print spec_x.shape\n",
    "    features_i = layer_outs[1][2]*16\n",
    "    #print features_i.shape\n",
    "    #mag=7\n",
    "    #print features_i\n",
    "    #features_i = np.repeat(np.repeat(features_i, mag, axis=0), mag, axis=1)\n",
    "    im = np.transpose(features_i,(2,1,0))\n",
    "    #print im.shape,im[i].shape\n",
    "    #im = np.transpose(im[0],(2,1,0))\n",
    "    height, width =im[i].shape\n",
    "    name = str(i)+'testoutputpic2.png'\n",
    "    fpng = open(name, 'wb')\n",
    "    #print width,height\n",
    "    w = png.Writer(width,height)\n",
    "    imi = np.reshape(im[i], (-1, width*1))\n",
    "    #print imi,imi.shape\n",
    "    pngWriter = png.Writer(width, height,\n",
    "                           greyscale=True,\n",
    "                           alpha=False,\n",
    "                           bitdepth=16)\n",
    "    #w.write(fpng,np.reshape(im[i], (-1, height*1)))\n",
    "    w.write(fpng,imi)\n",
    "\n",
    "\n",
    "    fpng.close()"
   ]
  },
  {
   "cell_type": "code",
   "execution_count": 35,
   "metadata": {},
   "outputs": [
    {
     "data": {
      "image/png": "[encoded data removed]",
      "text/plain": [
       "<IPython.core.display.Image object>"
      ]
     },
     "execution_count": 35,
     "metadata": {},
     "output_type": "execute_result"
    }
   ],
   "source": [
    "Image(filename='0testoutputpic2.png')"
   ]
  },
  {
   "cell_type": "code",
   "execution_count": 36,
   "metadata": {},
   "outputs": [
    {
     "data": {
      "image/png": "[encoded data removed]",
      "text/plain": [
       "<IPython.core.display.Image object>"
      ]
     },
     "execution_count": 36,
     "metadata": {},
     "output_type": "execute_result"
    }
   ],
   "source": [
    "Image(filename='1testoutputpic2.png')"
   ]
  },
  {
   "cell_type": "markdown",
   "metadata": {},
   "source": [
    "It is hard to see what they are identifying. Probably a better network, better image production (we use matplotlib usually) would make visualizing these more useful and interesting."
   ]
  },
  {
   "cell_type": "code",
   "execution_count": 37,
   "metadata": {},
   "outputs": [
    {
     "name": "stdout",
     "output_type": "stream",
     "text": [
      "['__add__', '__class__', '__contains__', '__delattr__', '__delitem__', '__delslice__', '__doc__', '__eq__', '__format__', '__ge__', '__getattribute__', '__getitem__', '__getslice__', '__gt__', '__hash__', '__iadd__', '__imul__', '__init__', '__iter__', '__le__', '__len__', '__lt__', '__mul__', '__ne__', '__new__', '__reduce__', '__reduce_ex__', '__repr__', '__reversed__', '__rmul__', '__setattr__', '__setitem__', '__setslice__', '__sizeof__', '__str__', '__subclasshook__', 'append', 'count', 'extend', 'index', 'insert', 'pop', 'remove', 'reverse', 'sort']\n"
     ]
    }
   ],
   "source": [
    "print dir(layer_outs)"
   ]
  },
  {
   "cell_type": "code",
   "execution_count": 38,
   "metadata": {},
   "outputs": [
    {
     "name": "stdout",
     "output_type": "stream",
     "text": [
      "[[[0.71118724 0.26403084 0.         0.16638239 1.0112139  0.5256103\n",
      "   0.7171944  0.67081475 0.05226527 0.34907988 0.84166765 0.\n",
      "   0.         1.1668612  0.         0.56146365]\n",
      "  [0.9689013  0.22939661 0.         0.22258319 1.1979908  0.51505196\n",
      "   0.6898832  0.63476825 0.04128312 0.27963686 0.69162905 0.\n",
      "   0.         1.3464022  0.         0.78114516]\n",
      "  [0.9514215  0.31035024 0.         0.23639756 1.2638535  0.5874531\n",
      "   0.6320159  0.64061964 0.         0.14794034 0.569339   0.\n",
      "   0.         1.4001259  0.         0.7888814 ]\n",
      "  [0.87119824 0.23117213 0.         0.24453029 0.8434843  0.632966\n",
      "   0.5079305  0.66733575 0.         0.17965001 0.56796783 0.\n",
      "   0.         1.4282533  0.         0.74619216]]\n",
      "\n",
      " [[1.1102644  0.29123655 0.         0.18839294 0.9545834  0.5759679\n",
      "   0.7098834  0.7715739  0.01583817 0.09577923 0.8834745  0.\n",
      "   0.         1.1357346  0.         0.7961876 ]\n",
      "  [0.8769481  0.30303708 0.         0.19832586 1.2049999  0.615261\n",
      "   0.47333434 0.753478   0.         0.27542514 0.5078376  0.\n",
      "   0.         1.2657145  0.         0.60484487]\n",
      "  [0.8117028  0.293082   0.         0.2784072  0.9975667  0.66001934\n",
      "   0.459027   0.9233473  0.04409888 0.34654906 0.7228664  0.\n",
      "   0.         1.3603982  0.         0.6718564 ]\n",
      "  [0.99803704 0.20866954 0.         0.24799983 1.1389495  0.6041541\n",
      "   0.575619   0.9613682  0.         0.31430674 0.5276971  0.\n",
      "   0.         1.18721    0.         0.69277227]]\n",
      "\n",
      " [[0.7169337  0.15081899 0.         0.06615759 0.9297555  0.951861\n",
      "   0.5992432  0.87141544 0.1275362  0.408779   0.50127876 0.\n",
      "   0.         1.3259035  0.         0.6590088 ]\n",
      "  [1.0271698  0.3545738  0.         0.18726444 1.1122961  0.5273994\n",
      "   0.54028153 0.7660776  0.03111565 0.19093104 0.7758816  0.\n",
      "   0.         1.4755703  0.         0.62119776]\n",
      "  [1.4611168  0.         0.         0.27300775 1.1060846  0.50836766\n",
      "   0.4746949  0.760489   0.         0.43619332 0.9923749  0.\n",
      "   0.         1.5572584  0.         0.8991102 ]\n",
      "  [0.91675603 0.06717562 0.         0.15191251 1.0862372  0.5279811\n",
      "   0.5718069  0.836959   0.19697769 0.22740294 0.95904624 0.\n",
      "   0.         1.2008023  0.         0.77279115]]\n",
      "\n",
      " [[0.81323683 0.26784083 0.         0.33687958 1.2067858  0.59935457\n",
      "   0.45925635 0.83184516 0.04983784 0.25021785 0.716472   0.\n",
      "   0.         1.1624138  0.         0.74678373]\n",
      "  [1.074012   0.5007356  0.         0.30356303 1.2354398  0.7734566\n",
      "   0.6184911  0.7672506  0.         0.37203482 0.45835054 0.\n",
      "   0.         1.3308423  0.         0.71042126]\n",
      "  [1.3820715  0.5921425  0.         0.2874967  1.5267608  0.7660663\n",
      "   0.8754748  1.4999198  0.04789734 0.5711018  0.5458276  0.\n",
      "   0.         1.5489975  0.         1.5248306 ]\n",
      "  [1.1048172  0.23653488 0.         0.36522487 1.5295628  0.71558344\n",
      "   0.4764312  0.84975463 0.05171895 0.16548996 0.7541438  0.09371161\n",
      "   0.         1.8933495  0.         0.8767115 ]]\n",
      "\n",
      " [[0.8795077  0.17712735 0.         0.21910726 1.2877896  0.42383206\n",
      "   0.5566759  0.6722409  0.         0.26309213 0.9158822  0.\n",
      "   0.         1.254402   0.         0.7068238 ]\n",
      "  [0.88666856 0.14715846 0.         0.08201158 1.0660613  0.58993363\n",
      "   0.5116744  0.6085256  0.         0.0671108  0.5976688  0.\n",
      "   0.         1.3294706  0.         0.7382558 ]\n",
      "  [0.88376594 0.13362907 0.         0.32623273 0.94859594 0.7352482\n",
      "   0.41747028 0.6966386  0.         0.25558898 0.67037684 0.\n",
      "   0.         1.3101981  0.         0.77823234]\n",
      "  [0.88799787 0.15420012 0.         0.22187015 1.0704688  0.517807\n",
      "   0.4070944  0.88628113 0.0097092  0.2670726  0.67606175 0.\n",
      "   0.         1.2693759  0.         0.6800071 ]]\n",
      "\n",
      " [[1.0272514  0.22094247 0.         0.16364218 1.0000775  0.6122057\n",
      "   0.5817451  0.67479515 0.         0.18699856 0.50666493 0.\n",
      "   0.         1.4304106  0.         0.756341  ]\n",
      "  [1.0627216  0.2864614  0.         0.15024595 1.0649661  0.40965664\n",
      "   0.62166864 0.73967737 0.         0.23584746 0.6426233  0.\n",
      "   0.         1.2995204  0.         0.6921512 ]\n",
      "  [1.0276849  0.12673621 0.         0.33662674 1.0316243  0.5043765\n",
      "   0.8175342  0.74443954 0.         0.51072156 0.65511096 0.\n",
      "   0.         1.8594759  0.         1.0943552 ]\n",
      "  [0.78185123 0.09500705 0.         0.2901207  1.1296583  0.6302744\n",
      "   0.6160855  0.89466023 0.         0.20943826 0.53514165 0.\n",
      "   0.         1.399041   0.         0.5989291 ]]]\n"
     ]
    }
   ],
   "source": [
    "print layer_outs[6][2]"
   ]
  },
  {
   "cell_type": "markdown",
   "metadata": {},
   "source": [
    "We can pull the features from any layer, and put them into some other algorithm (like a SVM)."
   ]
  },
  {
   "cell_type": "code",
   "execution_count": 39,
   "metadata": {},
   "outputs": [
    {
     "name": "stdout",
     "output_type": "stream",
     "text": [
      "[3.0488317 0.        0.        3.6570563 0.7280952 1.221029  1.1892599\n",
      " 0.        0.        0.        0.        3.9854808 0.        0.\n",
      " 0.        0.        0.        0.       ]\n"
     ]
    }
   ],
   "source": [
    "print layer_outs[9][2]"
   ]
  },
  {
   "cell_type": "code",
   "execution_count": 40,
   "metadata": {},
   "outputs": [
    {
     "name": "stdout",
     "output_type": "stream",
     "text": [
      "[1.6229644e-05 9.6885659e-02 9.0226270e-02 7.9564416e-01 7.1975952e-03\n",
      " 1.6967337e-04 3.5854671e-04 1.5474648e-03 6.9587515e-03 2.0728965e-04\n",
      " 7.8835193e-04]\n"
     ]
    }
   ],
   "source": [
    "print layer_outs[12][2]"
   ]
  },
  {
   "cell_type": "code",
   "execution_count": 41,
   "metadata": {},
   "outputs": [
    {
     "name": "stdout",
     "output_type": "stream",
     "text": [
      "[0.003018   0.15166894 0.25447926 0.4992115  0.01539084 0.00200932\n",
      " 0.0073177  0.0073752  0.03821527 0.00475492 0.01655912]\n"
     ]
    }
   ],
   "source": [
    "print layer_outs[12][1]"
   ]
  },
  {
   "cell_type": "code",
   "execution_count": 46,
   "metadata": {},
   "outputs": [
    {
     "name": "stdout",
     "output_type": "stream",
     "text": [
      "[1.0969518e-06 5.5155981e-02 2.6412654e-01 6.7810541e-01 1.6935100e-04\n",
      " 5.0272661e-07 1.8022094e-05 9.4269351e-05 2.1418051e-03 1.0193866e-05\n",
      " 1.7684656e-04]\n",
      "[2.3932991e-05 1.3675278e-01 1.0053839e-01 7.4949986e-01 4.4130110e-03\n",
      " 1.2339579e-04 6.5103098e-04 1.6946272e-03 5.2937390e-03 8.6248503e-05\n",
      " 9.2297222e-04]\n",
      "[7.1059503e-07 1.0139236e-01 7.6369308e-02 8.1298548e-01 6.5893205e-03\n",
      " 2.0892921e-05 5.9665297e-05 2.1158201e-04 2.0140461e-03 1.3530289e-04\n",
      " 2.2129391e-04]\n",
      "[7.5136995e-07 7.8306876e-02 2.6968557e-01 6.4986414e-01 3.2385284e-04\n",
      " 5.7185383e-07 1.8122413e-05 8.7689943e-05 1.5990022e-03 6.1414294e-06\n",
      " 1.0731117e-04]\n",
      "[1.2489577e-03 1.1736146e-01 7.2583966e-02 7.5407159e-01 5.3891321e-03\n",
      " 4.5324033e-04 1.2544725e-03 5.4921028e-03 3.7965775e-02 1.0946839e-03\n",
      " 3.0845616e-03]\n"
     ]
    }
   ],
   "source": [
    "print layer_outs[12][0]\n",
    "print layer_outs[12][3]\n",
    "print layer_outs[12][4]\n",
    "print layer_outs[12][5]\n",
    "print layer_outs[12][6]\n",
    "\n",
    "\n",
    "\n"
   ]
  },
  {
   "cell_type": "code",
   "execution_count": 44,
   "metadata": {},
   "outputs": [
    {
     "name": "stdout",
     "output_type": "stream",
     "text": [
      "[[0. 0. 0. 1. 0. 0. 0. 0. 0. 0. 0.]\n",
      " [0. 0. 0. 1. 0. 0. 0. 0. 0. 0. 0.]\n",
      " [0. 0. 0. 1. 0. 0. 0. 0. 0. 0. 0.]\n",
      " [0. 1. 0. 0. 0. 0. 0. 0. 0. 0. 0.]\n",
      " [0. 0. 0. 1. 0. 0. 0. 0. 0. 0. 0.]\n",
      " [0. 0. 1. 0. 0. 0. 0. 0. 0. 0. 0.]\n",
      " [0. 0. 0. 0. 0. 0. 0. 0. 1. 0. 0.]\n",
      " [0. 0. 0. 1. 0. 0. 0. 0. 0. 0. 0.]\n",
      " [0. 0. 0. 1. 0. 0. 0. 0. 0. 0. 0.]]\n"
     ]
    }
   ],
   "source": [
    "print label[:9]"
   ]
  },
  {
   "cell_type": "markdown",
   "metadata": {},
   "source": [
    "I tend to think that it is just generally going for 3 and so is generally correct. But you can see that you get non-3 predictions and can use the output."
   ]
  }
 ],
 "metadata": {
  "kernelspec": {
   "display_name": "Python 2",
   "language": "python",
   "name": "python2"
  },
  "language_info": {
   "codemirror_mode": {
    "name": "ipython",
    "version": 2
   },
   "file_extension": ".py",
   "mimetype": "text/x-python",
   "name": "python",
   "nbconvert_exporter": "python",
   "pygments_lexer": "ipython2",
   "version": "2.7.15"
  }
 },
 "nbformat": 4,
 "nbformat_minor": 2
}
