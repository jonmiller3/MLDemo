{
 "cells": [
  {
   "cell_type": "code",
   "execution_count": 1,
   "metadata": {},
   "outputs": [
    {
     "name": "stderr",
     "output_type": "stream",
     "text": [
      "Using plaidml.keras.backend backend.\n"
     ]
    },
    {
     "name": "stdout",
     "output_type": "stream",
     "text": [
      "<module 'keras.metrics' from '/Users/jonathanmiller/plaidml-venv/lib/python2.7/site-packages/keras/metrics.pyc'> ['K', 'MAE', 'MAPE', 'MSE', 'MSLE', '__builtins__', '__doc__', '__file__', '__name__', '__package__', 'absolute_import', 'binary_accuracy', 'binary_crossentropy', 'categorical_accuracy', 'categorical_crossentropy', 'cosine', 'cosine_proximity', 'deserialize', 'deserialize_keras_object', 'division', 'get', 'hinge', 'kullback_leibler_divergence', 'logcosh', 'mae', 'mape', 'mean_absolute_error', 'mean_absolute_percentage_error', 'mean_squared_error', 'mean_squared_logarithmic_error', 'mse', 'msle', 'poisson', 'print_function', 'serialize', 'serialize_keras_object', 'six', 'sparse_categorical_accuracy', 'sparse_categorical_crossentropy', 'sparse_top_k_categorical_accuracy', 'squared_hinge', 'top_k_categorical_accuracy']\n"
     ]
    }
   ],
   "source": [
    "import numpy as np\n",
    "import os\n",
    "import time\n",
    "\n",
    "os.environ[\"KERAS_BACKEND\"] = \"plaidml.keras.backend\"\n",
    "\n",
    "import keras\n",
    "import keras.applications as kapp\n",
    "from keras.datasets import cifar10\n",
    "from keras.layers import Input, Conv2D, MaxPooling2D, Dense, Activation, Dropout, Flatten\n",
    "from keras.optimizers import SGD\n",
    "\n",
    "from keras.models import Sequential\n",
    "\n",
    "import png as png\n",
    "from keras import metrics\n",
    "\n",
    "print metrics,dir(metrics)\n",
    "from keras import backend as K\n",
    "\n",
    "(x_train, y_train), (x_test, y_test) = cifar10.load_data()\n",
    "batch_size = 40\n",
    "testb_size = 40\n",
    "x_testb = x_train[:testb_size]\n",
    "#x_train = np.repeat(np.repeat(x_train, 7, axis=1), 7, axis=2)\n",
    "num_classes=11\n",
    "\n",
    "epochs = 48"
   ]
  },
  {
   "cell_type": "markdown",
   "metadata": {},
   "source": [
    "I am using KERAS because it is one of the most friendly (in python) of high level interfaces. I am using plaidml because I develop on OS X and OS X machines do not generally have NVIDIA processors (this is one of the points where developing in OS X is a disadvantage). KERAS can do models in several different ways, I use one of the ways below.\n",
    "\n",
    "I am using the png library for image visualization instead of matplotlib isn't being very friendly to OS X right now.\n",
    "\n",
    "Here I set the batch size to 40. In our studies of DCNN for the vertex finding problem we found that generally you want the batch size to be 50 or above.\n",
    "\n",
    "There are 10 classes in the cifar10 library (a small small image library that is a standard dataset in KERAS). We set the total epochs to 6."
   ]
  },
  {
   "cell_type": "code",
   "execution_count": 2,
   "metadata": {},
   "outputs": [],
   "source": [
    "for i in range(3):\n",
    "    features_i = x_train[i,::]\n",
    "    mag=7\n",
    "    #print features_i,features_i.shape\n",
    "    features_i = np.repeat(np.repeat(features_i, mag, axis=0), mag, axis=1)\n",
    "    im = np.transpose(features_i,(1,2,0))\n",
    "    height, width, depth = features_i.shape\n",
    "    name = str(i)+'testinput.png'\n",
    "    fpng = open(name, 'wb')\n",
    "    w = png.Writer(width,height)\n",
    "    pngWriter = png.Writer(width, height,\n",
    "                           greyscale=False,\n",
    "                           alpha=False,\n",
    "                           bitdepth=16)\n",
    "    w.write(fpng,np.reshape(features_i, (-1, width*3)))\n",
    "    fpng.close()"
   ]
  },
  {
   "cell_type": "markdown",
   "metadata": {},
   "source": [
    "This sell is to create png images for visualization. This is to visualize the images that we are going to be classifying. You can use the nice python features to be sure you have the shapes right which is one of the things to be more careful about in both python and DCNN work."
   ]
  },
  {
   "cell_type": "code",
   "execution_count": 3,
   "metadata": {},
   "outputs": [],
   "source": [
    "from IPython.display import Image\n"
   ]
  },
  {
   "cell_type": "code",
   "execution_count": 4,
   "metadata": {},
   "outputs": [
    {
     "data": {
      "image/png": "[encoded data removed]",
      "text/plain": [
       "<IPython.core.display.Image object>"
      ]
     },
     "execution_count": 4,
     "metadata": {},
     "output_type": "execute_result"
    }
   ],
   "source": [
    "Image(filename='1testinput.png') "
   ]
  },
  {
   "cell_type": "code",
   "execution_count": 5,
   "metadata": {},
   "outputs": [
    {
     "data": {
      "image/png": "[encoded data removed]",
      "text/plain": [
       "<IPython.core.display.Image object>"
      ]
     },
     "execution_count": 5,
     "metadata": {},
     "output_type": "execute_result"
    }
   ],
   "source": [
    "Image(filename='2testinput.png') "
   ]
  },
  {
   "cell_type": "code",
   "execution_count": 6,
   "metadata": {},
   "outputs": [
    {
     "data": {
      "image/png": "[encoded data removed]",
      "text/plain": [
       "<IPython.core.display.Image object>"
      ]
     },
     "execution_count": 6,
     "metadata": {},
     "output_type": "execute_result"
    }
   ],
   "source": [
    "Image(filename='0testinput.png') "
   ]
  },
  {
   "cell_type": "markdown",
   "metadata": {},
   "source": [
    "These are example images. I have magnified them 7 times."
   ]
  },
  {
   "cell_type": "code",
   "execution_count": 7,
   "metadata": {},
   "outputs": [
    {
     "name": "stderr",
     "output_type": "stream",
     "text": [
      "INFO:plaidml:Opening device \"metal_intel(r)_iris(tm)_plus_graphics_640.0\"\n"
     ]
    }
   ],
   "source": [
    "y_train = keras.utils.to_categorical(y_train, num_classes)\n",
    "y_test = keras.utils.to_categorical(y_test, num_classes)\n",
    "\n",
    "\n",
    "model = Sequential()\n",
    "\n",
    "firstlayer=Conv2D(8, (3, 3), activation='relu', input_shape=(32, 32, 3))\n",
    "model.add(firstlayer)\n",
    "model.add(Conv2D(8, (3, 3), activation='relu'))\n",
    "model.add(Conv2D(16, (3, 3), activation='relu'))\n",
    "model.add(Conv2D(16, (3, 3), activation='relu'))\n",
    "model.add(MaxPooling2D(pool_size=(3, 3)))"
   ]
  },
  {
   "cell_type": "code",
   "execution_count": 8,
   "metadata": {},
   "outputs": [],
   "source": [
    "model.add(Dropout(0.25))\n",
    "\n"
   ]
  },
  {
   "cell_type": "code",
   "execution_count": 9,
   "metadata": {},
   "outputs": [],
   "source": [
    "model.add(Flatten())\n",
    "model.add(Dense(18, activation='relu'))\n",
    "model.add(Dropout(0.5))\n",
    "model.add(Dense(18, activation='relu'))\n",
    "model.add(Dense(num_classes, activation='softmax'))"
   ]
  },
  {
   "cell_type": "code",
   "execution_count": 10,
   "metadata": {},
   "outputs": [
    {
     "name": "stdout",
     "output_type": "stream",
     "text": [
      "_________________________________________________________________\n",
      "Layer (type)                 Output Shape              Param #   \n",
      "=================================================================\n",
      "conv2d_1 (Conv2D)            (None, 30, 30, 8)         224       \n",
      "_________________________________________________________________\n",
      "conv2d_2 (Conv2D)            (None, 28L, 28L, 8)       584       \n",
      "_________________________________________________________________\n",
      "conv2d_3 (Conv2D)            (None, 26L, 26L, 16)      1168      \n",
      "_________________________________________________________________\n",
      "conv2d_4 (Conv2D)            (None, 24L, 24L, 16)      2320      \n",
      "_________________________________________________________________\n",
      "max_pooling2d_1 (MaxPooling2 (None, 8L, 8L, 16L)       0         \n",
      "_________________________________________________________________\n",
      "dropout_1 (Dropout)          (None, 8L, 8L, 16L)       0         \n",
      "_________________________________________________________________\n",
      "flatten_1 (Flatten)          (None, 1024)              0         \n",
      "_________________________________________________________________\n",
      "dense_1 (Dense)              (None, 18)                18450     \n",
      "_________________________________________________________________\n",
      "dropout_2 (Dropout)          (None, 18L)               0         \n",
      "_________________________________________________________________\n",
      "dense_2 (Dense)              (None, 18)                342       \n",
      "_________________________________________________________________\n",
      "dense_3 (Dense)              (None, 11)                209       \n",
      "=================================================================\n",
      "Total params: 23,297\n",
      "Trainable params: 23,297\n",
      "Non-trainable params: 0\n",
      "_________________________________________________________________\n"
     ]
    }
   ],
   "source": [
    "sgd = SGD(lr=0.01, decay=1e-6, momentum=0.9, nesterov=True)\n",
    "model.compile(loss='mean_squared_error', optimizer=sgd,metrics=['categorical_accuracy'])\n",
    "model.summary()"
   ]
  },
  {
   "cell_type": "markdown",
   "metadata": {},
   "source": [
    "Here we created the simply network. The shapes are important as are the number of parameters. You can see that while a lot of the work is done in the convolutional layers that most of the paramters are in the first dense layer. That is often the usual, here I have decreased the shape of the first dense layer to try and focus on the use of the convolutional layers.\n",
    "\n",
    "A possibly outdated rule of thumb was that you should have 10 times more events or images than you have parameters.\n",
    "\n",
    "Remember that dropout basically forces the NN to learn alternate representations of the image. We could probably make it more robust by adding additional dropout layers."
   ]
  },
  {
   "cell_type": "code",
   "execution_count": 11,
   "metadata": {},
   "outputs": [],
   "source": [
    "x_train = x_train.astype('float32')\n",
    "x_test = x_test.astype('float32')\n",
    "x_testb = x_testb.astype('float32')\n",
    "x_train /= 255\n",
    "x_test /= 255\n",
    "x_testb /= 255\n",
    "\n",
    "\n",
    "firstlayerw = firstlayer.get_weights()[0][:,:,0,:]"
   ]
  },
  {
   "cell_type": "code",
   "execution_count": 12,
   "metadata": {},
   "outputs": [],
   "source": [
    "for i in range(2):\n",
    "    name = str(i)+'testinputkernely.png'\n",
    "    fpng = open(name, 'wb')\n",
    "    mag=100\n",
    "    w = png.Writer(3*mag,3*mag)\n",
    "    im = np.repeat(np.repeat(firstlayerw[:,:,i]+0.5, mag, axis=0), mag, axis=1)\n",
    "    im=im*255\n",
    "    #print firstlayerw[:,:,i],firstlayerw[:,:,i].shape\n",
    "    #print im,im.shape\n",
    "    pngWriter = png.Writer(width, height,\n",
    "                           greyscale=True,\n",
    "                           alpha=False,\n",
    "                           bitdepth=16)\n",
    "    w.write(fpng,im)\n",
    "    fpng.close()"
   ]
  },
  {
   "cell_type": "code",
   "execution_count": 13,
   "metadata": {},
   "outputs": [
    {
     "data": {
      "image/png": "[encoded data removed]",
      "text/plain": [
       "<IPython.core.display.Image object>"
      ]
     },
     "execution_count": 13,
     "metadata": {},
     "output_type": "execute_result"
    }
   ],
   "source": [
    "Image(filename='0testinputkernely.png')"
   ]
  },
  {
   "cell_type": "code",
   "execution_count": 14,
   "metadata": {},
   "outputs": [],
   "source": [
    "#help(png)"
   ]
  },
  {
   "cell_type": "code",
   "execution_count": 15,
   "metadata": {},
   "outputs": [
    {
     "data": {
      "image/png": "[encoded data removed]",
      "text/plain": [
       "<IPython.core.display.Image object>"
      ]
     },
     "execution_count": 15,
     "metadata": {},
     "output_type": "execute_result"
    }
   ],
   "source": [
    "Image(filename='1testinputkernely.png')"
   ]
  },
  {
   "cell_type": "markdown",
   "metadata": {},
   "source": [
    "I think these are randomly initiated. In fact, from our study of DCNN hyper-parameters using an evolutionary algorithm (MENNDL), the best performing DCNNs were those that got a bit lucky with a good set of initial weights. I suppose that this is something else that could be considered a parameter.\n",
    "\n",
    "I still think it is stronger than doing feature engineering and a BDT/SVN."
   ]
  },
  {
   "cell_type": "code",
   "execution_count": 16,
   "metadata": {},
   "outputs": [
    {
     "name": "stdout",
     "output_type": "stream",
     "text": [
      "Train on 50000 samples, validate on 10000 samples\n",
      "Epoch 1/48\n"
     ]
    },
    {
     "name": "stderr",
     "output_type": "stream",
     "text": [
      "INFO:plaidml:Analyzing Ops: 124 of 264 operations complete\n"
     ]
    },
    {
     "name": "stdout",
     "output_type": "stream",
     "text": [
      "50000/50000 [==============================] - 92s 2ms/step - loss: 0.0824 - categorical_accuracy: 0.1062 - val_loss: 0.0821 - val_categorical_accuracy: 0.1147\n",
      "Epoch 2/48\n",
      "50000/50000 [==============================] - 82s 2ms/step - loss: 0.0820 - categorical_accuracy: 0.1187 - val_loss: 0.0816 - val_categorical_accuracy: 0.1366\n",
      "Epoch 3/48\n",
      "50000/50000 [==============================] - 80s 2ms/step - loss: 0.0813 - categorical_accuracy: 0.1437 - val_loss: 0.0803 - val_categorical_accuracy: 0.2033\n",
      "Epoch 4/48\n",
      "50000/50000 [==============================] - 72s 1ms/step - loss: 0.0803 - categorical_accuracy: 0.1659 - val_loss: 0.0791 - val_categorical_accuracy: 0.2100\n",
      "Epoch 5/48\n",
      "50000/50000 [==============================] - 72s 1ms/step - loss: 0.0793 - categorical_accuracy: 0.1779 - val_loss: 0.0781 - val_categorical_accuracy: 0.2193\n",
      "Epoch 6/48\n",
      "50000/50000 [==============================] - 73s 1ms/step - loss: 0.0785 - categorical_accuracy: 0.1890 - val_loss: 0.0770 - val_categorical_accuracy: 0.2486\n",
      "Epoch 7/48\n",
      "50000/50000 [==============================] - 83s 2ms/step - loss: 0.0777 - categorical_accuracy: 0.2087 - val_loss: 0.0756 - val_categorical_accuracy: 0.2781\n",
      "Epoch 8/48\n",
      "50000/50000 [==============================] - 82s 2ms/step - loss: 0.0770 - categorical_accuracy: 0.2202 - val_loss: 0.0745 - val_categorical_accuracy: 0.2995\n",
      "Epoch 9/48\n",
      "50000/50000 [==============================] - 77s 2ms/step - loss: 0.0762 - categorical_accuracy: 0.2345 - val_loss: 0.0735 - val_categorical_accuracy: 0.3187\n",
      "Epoch 10/48\n",
      "50000/50000 [==============================] - 81s 2ms/step - loss: 0.0754 - categorical_accuracy: 0.2475 - val_loss: 0.0724 - val_categorical_accuracy: 0.3316\n",
      "Epoch 11/48\n",
      "50000/50000 [==============================] - 80s 2ms/step - loss: 0.0747 - categorical_accuracy: 0.2629 - val_loss: 0.0718 - val_categorical_accuracy: 0.3505\n",
      "Epoch 12/48\n",
      "50000/50000 [==============================] - 79s 2ms/step - loss: 0.0740 - categorical_accuracy: 0.2723 - val_loss: 0.0706 - val_categorical_accuracy: 0.3615\n",
      "Epoch 13/48\n",
      "50000/50000 [==============================] - 78s 2ms/step - loss: 0.0735 - categorical_accuracy: 0.2828 - val_loss: 0.0700 - val_categorical_accuracy: 0.3748\n",
      "Epoch 14/48\n",
      "50000/50000 [==============================] - 79s 2ms/step - loss: 0.0730 - categorical_accuracy: 0.2917 - val_loss: 0.0696 - val_categorical_accuracy: 0.3727\n",
      "Epoch 15/48\n",
      "50000/50000 [==============================] - 79s 2ms/step - loss: 0.0725 - categorical_accuracy: 0.2989 - val_loss: 0.0688 - val_categorical_accuracy: 0.3888\n",
      "Epoch 16/48\n",
      "50000/50000 [==============================] - 80s 2ms/step - loss: 0.0721 - categorical_accuracy: 0.3066 - val_loss: 0.0680 - val_categorical_accuracy: 0.3961\n",
      "Epoch 17/48\n",
      "50000/50000 [==============================] - 78s 2ms/step - loss: 0.0719 - categorical_accuracy: 0.3105 - val_loss: 0.0678 - val_categorical_accuracy: 0.3950\n",
      "Epoch 18/48\n",
      "50000/50000 [==============================] - 80s 2ms/step - loss: 0.0714 - categorical_accuracy: 0.3179 - val_loss: 0.0673 - val_categorical_accuracy: 0.4091\n",
      "Epoch 19/48\n",
      "50000/50000 [==============================] - 82s 2ms/step - loss: 0.0712 - categorical_accuracy: 0.3200 - val_loss: 0.0674 - val_categorical_accuracy: 0.3961\n",
      "Epoch 20/48\n",
      "50000/50000 [==============================] - 81s 2ms/step - loss: 0.0709 - categorical_accuracy: 0.3263 - val_loss: 0.0666 - val_categorical_accuracy: 0.4140\n",
      "Epoch 21/48\n",
      "50000/50000 [==============================] - 83s 2ms/step - loss: 0.0706 - categorical_accuracy: 0.3279 - val_loss: 0.0664 - val_categorical_accuracy: 0.4196\n",
      "Epoch 22/48\n",
      "50000/50000 [==============================] - 83s 2ms/step - loss: 0.0703 - categorical_accuracy: 0.3338 - val_loss: 0.0655 - val_categorical_accuracy: 0.4229\n",
      "Epoch 23/48\n",
      "50000/50000 [==============================] - 81s 2ms/step - loss: 0.0700 - categorical_accuracy: 0.3390 - val_loss: 0.0657 - val_categorical_accuracy: 0.4254\n",
      "Epoch 24/48\n",
      "50000/50000 [==============================] - 79s 2ms/step - loss: 0.0698 - categorical_accuracy: 0.3399 - val_loss: 0.0658 - val_categorical_accuracy: 0.4180\n",
      "Epoch 25/48\n",
      "50000/50000 [==============================] - 79s 2ms/step - loss: 0.0695 - categorical_accuracy: 0.3461 - val_loss: 0.0649 - val_categorical_accuracy: 0.4349\n",
      "Epoch 26/48\n",
      "50000/50000 [==============================] - 79s 2ms/step - loss: 0.0693 - categorical_accuracy: 0.3487 - val_loss: 0.0645 - val_categorical_accuracy: 0.4394\n",
      "Epoch 27/48\n",
      "50000/50000 [==============================] - 80s 2ms/step - loss: 0.0690 - categorical_accuracy: 0.3537 - val_loss: 0.0643 - val_categorical_accuracy: 0.4385\n",
      "Epoch 28/48\n",
      "50000/50000 [==============================] - 80s 2ms/step - loss: 0.0688 - categorical_accuracy: 0.3556 - val_loss: 0.0639 - val_categorical_accuracy: 0.4470\n",
      "Epoch 29/48\n",
      "50000/50000 [==============================] - 81s 2ms/step - loss: 0.0684 - categorical_accuracy: 0.3583 - val_loss: 0.0643 - val_categorical_accuracy: 0.4451\n",
      "Epoch 30/48\n",
      "50000/50000 [==============================] - 78s 2ms/step - loss: 0.0683 - categorical_accuracy: 0.3588 - val_loss: 0.0629 - val_categorical_accuracy: 0.4621\n",
      "Epoch 31/48\n",
      "50000/50000 [==============================] - 83s 2ms/step - loss: 0.0680 - categorical_accuracy: 0.3647 - val_loss: 0.0623 - val_categorical_accuracy: 0.4585\n",
      "Epoch 32/48\n",
      "50000/50000 [==============================] - 81s 2ms/step - loss: 0.0677 - categorical_accuracy: 0.3673 - val_loss: 0.0623 - val_categorical_accuracy: 0.4647\n",
      "Epoch 33/48\n",
      "50000/50000 [==============================] - 84s 2ms/step - loss: 0.0676 - categorical_accuracy: 0.3718 - val_loss: 0.0626 - val_categorical_accuracy: 0.4651\n",
      "Epoch 34/48\n",
      "50000/50000 [==============================] - 87s 2ms/step - loss: 0.0672 - categorical_accuracy: 0.3738 - val_loss: 0.0612 - val_categorical_accuracy: 0.4744\n",
      "Epoch 35/48\n",
      "50000/50000 [==============================] - 87s 2ms/step - loss: 0.0669 - categorical_accuracy: 0.3782 - val_loss: 0.0613 - val_categorical_accuracy: 0.4798\n",
      "Epoch 36/48\n",
      "50000/50000 [==============================] - 86s 2ms/step - loss: 0.0665 - categorical_accuracy: 0.3791 - val_loss: 0.0618 - val_categorical_accuracy: 0.4773\n",
      "Epoch 37/48\n",
      "50000/50000 [==============================] - 85s 2ms/step - loss: 0.0663 - categorical_accuracy: 0.3847 - val_loss: 0.0602 - val_categorical_accuracy: 0.4844\n",
      "Epoch 38/48\n",
      "50000/50000 [==============================] - 84s 2ms/step - loss: 0.0659 - categorical_accuracy: 0.3886 - val_loss: 0.0602 - val_categorical_accuracy: 0.4891\n",
      "Epoch 39/48\n",
      "50000/50000 [==============================] - 84s 2ms/step - loss: 0.0659 - categorical_accuracy: 0.3896 - val_loss: 0.0597 - val_categorical_accuracy: 0.4984\n",
      "Epoch 40/48\n",
      "50000/50000 [==============================] - 84s 2ms/step - loss: 0.0655 - categorical_accuracy: 0.3950 - val_loss: 0.0597 - val_categorical_accuracy: 0.5031\n",
      "Epoch 41/48\n",
      "50000/50000 [==============================] - 83s 2ms/step - loss: 0.0650 - categorical_accuracy: 0.3991 - val_loss: 0.0586 - val_categorical_accuracy: 0.5113\n",
      "Epoch 42/48\n",
      "50000/50000 [==============================] - 83s 2ms/step - loss: 0.0648 - categorical_accuracy: 0.4001 - val_loss: 0.0585 - val_categorical_accuracy: 0.5150\n",
      "Epoch 43/48\n",
      "50000/50000 [==============================] - 516s 10ms/step - loss: 0.0647 - categorical_accuracy: 0.4046 - val_loss: 0.0584 - val_categorical_accuracy: 0.5071\n",
      "Epoch 44/48\n",
      "50000/50000 [==============================] - 87s 2ms/step - loss: 0.0643 - categorical_accuracy: 0.4104 - val_loss: 0.0583 - val_categorical_accuracy: 0.5136\n",
      "Epoch 45/48\n",
      "50000/50000 [==============================] - 1604s 32ms/step - loss: 0.0642 - categorical_accuracy: 0.4090 - val_loss: 0.0576 - val_categorical_accuracy: 0.5196\n",
      "Epoch 46/48\n",
      "50000/50000 [==============================] - 84s 2ms/step - loss: 0.0639 - categorical_accuracy: 0.4149 - val_loss: 0.0576 - val_categorical_accuracy: 0.5163\n",
      "Epoch 47/48\n",
      "50000/50000 [==============================] - 84s 2ms/step - loss: 0.0636 - categorical_accuracy: 0.4168 - val_loss: 0.0576 - val_categorical_accuracy: 0.5271\n",
      "Epoch 48/48\n"
     ]
    },
    {
     "name": "stdout",
     "output_type": "stream",
     "text": [
      "50000/50000 [==============================] - 83s 2ms/step - loss: 0.0635 - categorical_accuracy: 0.4170 - val_loss: 0.0568 - val_categorical_accuracy: 0.5301\n"
     ]
    }
   ],
   "source": [
    "history=model.fit(x_train, y_train,\n",
    "          batch_size=batch_size,\n",
    "          epochs=epochs,\n",
    "          validation_data=(x_test, y_test),\n",
    "          shuffle=True)"
   ]
  },
  {
   "cell_type": "markdown",
   "metadata": {},
   "source": [
    "Here we can do 12 epochs, and it is set to do a validation every epoch. Run in a different way you can have more control (we often do a validation run even every 0.10 epochs. An epoch is one pass through the dataset. Often another relevant number is dataset divided by batch size."
   ]
  },
  {
   "cell_type": "code",
   "execution_count": 17,
   "metadata": {},
   "outputs": [],
   "source": [
    "firstlayerw = firstlayer.get_weights()[0][:,:,0,:]\n",
    "for i in range(2):\n",
    "    name = str(i)+'testoutputkernely.png'\n",
    "    fpng = open(name, 'wb')\n",
    "    mag=100\n",
    "    w = png.Writer(3*mag,3*mag)\n",
    "    im = np.repeat(np.repeat(firstlayerw[:,:,i]+0.5, mag, axis=0), mag, axis=1)\n",
    "    im=im*255\n",
    "    #print firstlayerw[:,:,i],firstlayerw[:,:,i].shape\n",
    "    #print im,im.shape\n",
    "    pngWriter = png.Writer(width, height,\n",
    "                           greyscale=True,\n",
    "                           alpha=False,\n",
    "                           bitdepth=16)\n",
    "    w.write(fpng,im)\n",
    "    fpng.close()"
   ]
  },
  {
   "cell_type": "code",
   "execution_count": 18,
   "metadata": {},
   "outputs": [
    {
     "data": {
      "image/png": "[encoded data removed]",
      "text/plain": [
       "<IPython.core.display.Image object>"
      ]
     },
     "execution_count": 18,
     "metadata": {},
     "output_type": "execute_result"
    }
   ],
   "source": [
    "Image(filename='0testoutputkernely.png')"
   ]
  },
  {
   "cell_type": "code",
   "execution_count": 19,
   "metadata": {},
   "outputs": [
    {
     "data": {
      "image/png": "[encoded data removed]",
      "text/plain": [
       "<IPython.core.display.Image object>"
      ]
     },
     "execution_count": 19,
     "metadata": {},
     "output_type": "execute_result"
    }
   ],
   "source": [
    "Image(filename='1testoutputkernely.png')"
   ]
  },
  {
   "cell_type": "markdown",
   "metadata": {},
   "source": [
    "It doesn't look like the kernel has changed at all. I don't think that is one of the parameters that this network changes. These are 2 out of the 8 kernels in the first convolutional layer. You could imagine that if you have a smaller number of kernels, and the kernels don't change, that there might be a lot of luck involved.\n",
    "\n",
    "I have tried to magnify these."
   ]
  },
  {
   "cell_type": "code",
   "execution_count": 20,
   "metadata": {},
   "outputs": [
    {
     "name": "stdout",
     "output_type": "stream",
     "text": [
      "Welcome to JupyROOT 6.14/04\n"
     ]
    }
   ],
   "source": [
    "inp = model.input                                           # input placeholder\n",
    "outputs = [layer.output for layer in model.layers]          # all layer outputs\n",
    "functor = K.function([inp]+ [K.learning_phase()], outputs ) # evaluation function\n",
    "import ROOT as rt"
   ]
  },
  {
   "cell_type": "code",
   "execution_count": 21,
   "metadata": {},
   "outputs": [
    {
     "name": "stdout",
     "output_type": "stream",
     "text": [
      "['val_categorical_accuracy', 'loss', 'categorical_accuracy', 'val_loss']\n",
      "['AddressOf', 'MakeNullPointer', 'PyConfig', 'SetMemoryPolicy', 'SetOwnership', 'SetSignalPolicy', 'TCanvas', 'TROOT', 'Template', '_TTabComHook', '__doc__', '__file__', '__name__', 'cout', 'disableJSVis', 'disableJSVisDebug', 'enableJSVis', 'enableJSVisDebug', 'gInterpreter', 'gROOT', 'gSystem', 'kMemoryHeuristics', 'kMemoryStrict', 'kSignalFast', 'kSignalSafe', 'keeppolling', 'module', 'std']\n",
      "<type 'numpy.ndarray'>\n",
      "<type 'list'>\n"
     ]
    },
    {
     "data": {
      "image/png": "[encoded data removed]",
      "text/plain": [
       "<IPython.core.display.Image object>"
      ]
     },
     "metadata": {},
     "output_type": "display_data"
    },
    {
     "data": {
      "image/png": "[encoded data removed]",
      "text/plain": [
       "<IPython.core.display.Image object>"
      ]
     },
     "metadata": {},
     "output_type": "display_data"
    }
   ],
   "source": [
    "print(history.history.keys())\n",
    "c1=rt.TCanvas( 'c1', 'c1', 200, 10, 700, 900 )\n",
    "print dir(rt)\n",
    "epocharray=np.arange(epochs) \n",
    "print type(epocharray)\n",
    "print type(history.history['categorical_accuracy'])\n",
    "gr1=rt.TGraph(epochs,epocharray.astype(float),np.asarray(history.history['categorical_accuracy'],float))\n",
    "gr2=rt.TGraph(epochs,epocharray.astype(float),np.asarray(history.history['val_categorical_accuracy'],float))\n",
    "gr3=rt.TGraph(epochs,epocharray.astype(float),np.asarray(history.history['loss'],float))\n",
    "gr4=rt.TGraph(epochs,epocharray.astype(float),np.asarray(history.history['val_loss'],float))\n",
    "\n",
    "gr2.Draw(\"\")\n",
    "gr1.Draw(\"same\")\n",
    "c1.Modified()\n",
    "c1.Update()\n",
    "c2=rt.TCanvas( 'c2', 'c2', 200, 10, 700, 900 )\n",
    "gr4.Draw(\"\")\n",
    "gr3.Draw(\"same\")\n",
    "c2.Modified()\n",
    "c2.Update()\n",
    "\n",
    "rt.gROOT.GetListOfCanvases().Draw()"
   ]
  },
  {
   "cell_type": "markdown",
   "metadata": {},
   "source": [
    "This is not ROOT nice yet (but may be in time for the lecture, or if you want to review it later). However, we can use ROOT or matplotlib to see how the loss and accuracy (standard metrics for DCNN) are changing as data continues to be acquired.\n",
    "\n",
    "We note that the slope is still very strong. That means that even at 12 epochs the DCNN is still learning a lot. You really want to train to the point where the curve becomes flat.\n",
    "\n",
    "We don't see it become flat, but we do see it possibly flattening."
   ]
  },
  {
   "cell_type": "code",
   "execution_count": 22,
   "metadata": {},
   "outputs": [],
   "source": [
    "for i in range(1):\n",
    "    #print x_testb.shape\n",
    "    features_i = x_testb[3,::]*255\n",
    "    #print features_i,features_i.shape\n",
    "    mag=7\n",
    "    #print features_i\n",
    "    features_i = np.repeat(np.repeat(features_i, mag, axis=0), mag, axis=1)\n",
    "    im = np.transpose(features_i,(1,2,0))\n",
    "    height, width, depth = features_i.shape\n",
    "    name = str(i)+'testinputpic.png'\n",
    "    fpng = open(name, 'wb')\n",
    "    w = png.Writer(width,height)\n",
    "    pngWriter = png.Writer(width, height,\n",
    "                           greyscale=False,\n",
    "                           alpha=False,\n",
    "                           bitdepth=16)\n",
    "    w.write(fpng,np.reshape(features_i, (-1, width*3)))\n",
    "    fpng.close()"
   ]
  },
  {
   "cell_type": "code",
   "execution_count": 23,
   "metadata": {},
   "outputs": [
    {
     "data": {
      "image/png": "[encoded data removed]",
      "text/plain": [
       "<IPython.core.display.Image object>"
      ]
     },
     "execution_count": 23,
     "metadata": {},
     "output_type": "execute_result"
    }
   ],
   "source": [
    "Image(filename='0testinputpic.png')"
   ]
  },
  {
   "cell_type": "markdown",
   "metadata": {},
   "source": [
    "Here is the image we will investigate in greater detail. It is magnified 7 times."
   ]
  },
  {
   "cell_type": "code",
   "execution_count": 24,
   "metadata": {},
   "outputs": [
    {
     "name": "stdout",
     "output_type": "stream",
     "text": [
      "(8, 210, 210) (210, 210)\n",
      "210 210\n",
      "(8, 210, 210) (210, 210)\n",
      "210 210\n",
      "(8, 210, 210) (210, 210)\n",
      "210 210\n",
      "(8, 210, 210) (210, 210)\n",
      "210 210\n",
      "(8, 210, 210) (210, 210)\n",
      "210 210\n",
      "(8, 210, 210) (210, 210)\n",
      "210 210\n",
      "(8, 210, 210) (210, 210)\n",
      "210 210\n"
     ]
    }
   ],
   "source": [
    "layer_outs = functor([x_testb, 1.])\n",
    "for i in range(7):\n",
    "    #print x_testb.shape\n",
    "    features_i = layer_outs[0][3]*125\n",
    "    #print features_i.shape\n",
    "    mag=7\n",
    "    #print features_i\n",
    "    features_i = np.repeat(np.repeat(features_i, mag, axis=0), mag, axis=1)\n",
    "    im = np.transpose(features_i,(2,1,0))\n",
    "    print im.shape,im[i].shape\n",
    "    #im = np.transpose(im[0],(2,1,0))\n",
    "    height, width =im[i].shape\n",
    "    name = str(i)+'testoutputpic.png'\n",
    "    fpng = open(name, 'wb')\n",
    "    print width,height\n",
    "    w = png.Writer(width,height)\n",
    "    pngWriter = png.Writer(width, height,\n",
    "                           greyscale=True,\n",
    "                           alpha=False,\n",
    "                           bitdepth=16)\n",
    "    w.write(fpng,np.reshape(im[i], (-1, width*1)))\n",
    "    fpng.close()\n"
   ]
  },
  {
   "cell_type": "code",
   "execution_count": 25,
   "metadata": {},
   "outputs": [
    {
     "data": {
      "image/png": "[encoded data removed]",
      "text/plain": [
       "<IPython.core.display.Image object>"
      ]
     },
     "execution_count": 25,
     "metadata": {},
     "output_type": "execute_result"
    }
   ],
   "source": [
    "Image(filename='0testoutputpic.png')"
   ]
  },
  {
   "cell_type": "code",
   "execution_count": 26,
   "metadata": {},
   "outputs": [
    {
     "data": {
      "image/png": "[encoded data removed]",
      "text/plain": [
       "<IPython.core.display.Image object>"
      ]
     },
     "execution_count": 26,
     "metadata": {},
     "output_type": "execute_result"
    }
   ],
   "source": [
    "Image(filename='1testoutputpic.png')"
   ]
  },
  {
   "cell_type": "code",
   "execution_count": 27,
   "metadata": {},
   "outputs": [
    {
     "data": {
      "image/png": "[encoded data removed]",
      "text/plain": [
       "<IPython.core.display.Image object>"
      ]
     },
     "execution_count": 27,
     "metadata": {},
     "output_type": "execute_result"
    }
   ],
   "source": [
    "Image(filename='2testoutputpic.png')"
   ]
  },
  {
   "cell_type": "code",
   "execution_count": 28,
   "metadata": {},
   "outputs": [
    {
     "data": {
      "image/png": "[encoded data removed]",
      "text/plain": [
       "<IPython.core.display.Image object>"
      ]
     },
     "execution_count": 28,
     "metadata": {},
     "output_type": "execute_result"
    }
   ],
   "source": [
    "Image(filename='3testoutputpic.png')"
   ]
  },
  {
   "cell_type": "code",
   "execution_count": 29,
   "metadata": {},
   "outputs": [
    {
     "data": {
      "image/png": "[encoded data removed]",
      "text/plain": [
       "<IPython.core.display.Image object>"
      ]
     },
     "execution_count": 29,
     "metadata": {},
     "output_type": "execute_result"
    }
   ],
   "source": [
    "Image(filename='4testoutputpic.png')"
   ]
  },
  {
   "cell_type": "code",
   "execution_count": 30,
   "metadata": {},
   "outputs": [
    {
     "data": {
      "image/png": "[encoded data removed]",
      "text/plain": [
       "<IPython.core.display.Image object>"
      ]
     },
     "execution_count": 30,
     "metadata": {},
     "output_type": "execute_result"
    }
   ],
   "source": [
    "Image(filename='5testoutputpic.png')"
   ]
  },
  {
   "cell_type": "code",
   "execution_count": 31,
   "metadata": {},
   "outputs": [
    {
     "data": {
      "image/png": "[encoded data removed]",
      "text/plain": [
       "<IPython.core.display.Image object>"
      ]
     },
     "execution_count": 31,
     "metadata": {},
     "output_type": "execute_result"
    }
   ],
   "source": [
    "Image(filename='6testoutputpic.png')"
   ]
  },
  {
   "cell_type": "markdown",
   "metadata": {},
   "source": [
    "Here are 7 images produced by applying the 7 kernels to the image. "
   ]
  },
  {
   "cell_type": "code",
   "execution_count": 32,
   "metadata": {},
   "outputs": [],
   "source": [
    "#Image(filename='7testoutputpic.png')"
   ]
  },
  {
   "cell_type": "code",
   "execution_count": 33,
   "metadata": {},
   "outputs": [
    {
     "name": "stdout",
     "output_type": "stream",
     "text": [
      "196 196\n",
      "196 196\n",
      "196 196\n",
      "196 196\n",
      "196 196\n",
      "196 196\n",
      "196 196\n"
     ]
    }
   ],
   "source": [
    "for i in range(7):\n",
    "    #print x_testb.shape\n",
    "    features_i = layer_outs[1][3]*125\n",
    "    #print features_i.shape\n",
    "    mag=7\n",
    "    #print features_i\n",
    "    features_i = np.repeat(np.repeat(features_i, mag, axis=0), mag, axis=1)\n",
    "    im = np.transpose(features_i,(2,1,0))\n",
    "    #print im.shape,im[i].shape\n",
    "    #im = np.transpose(im[0],(2,1,0))\n",
    "    height, width =im[i].shape\n",
    "    name = str(i)+'testoutputpic2.png'\n",
    "    fpng = open(name, 'wb')\n",
    "    print width,height\n",
    "    w = png.Writer(width,height)\n",
    "    pngWriter = png.Writer(width, height,\n",
    "                           greyscale=True,\n",
    "                           alpha=False,\n",
    "                           bitdepth=16)\n",
    "    w.write(fpng,np.reshape(im[i], (-1, width*1)))\n",
    "    fpng.close()"
   ]
  },
  {
   "cell_type": "code",
   "execution_count": 34,
   "metadata": {},
   "outputs": [
    {
     "data": {
      "image/png": "[encoded data removed]",
      "text/plain": [
       "<IPython.core.display.Image object>"
      ]
     },
     "execution_count": 34,
     "metadata": {},
     "output_type": "execute_result"
    }
   ],
   "source": [
    "Image(filename='0testoutputpic2.png')"
   ]
  },
  {
   "cell_type": "code",
   "execution_count": 35,
   "metadata": {},
   "outputs": [
    {
     "data": {
      "image/png": "[encoded data removed]",
      "text/plain": [
       "<IPython.core.display.Image object>"
      ]
     },
     "execution_count": 35,
     "metadata": {},
     "output_type": "execute_result"
    }
   ],
   "source": [
    "Image(filename='1testoutputpic2.png')"
   ]
  },
  {
   "cell_type": "code",
   "execution_count": 36,
   "metadata": {},
   "outputs": [
    {
     "data": {
      "image/png": "[encoded data removed]",
      "text/plain": [
       "<IPython.core.display.Image object>"
      ]
     },
     "execution_count": 36,
     "metadata": {},
     "output_type": "execute_result"
    }
   ],
   "source": [
    "Image(filename='2testoutputpic2.png')"
   ]
  },
  {
   "cell_type": "code",
   "execution_count": 37,
   "metadata": {},
   "outputs": [
    {
     "data": {
      "image/png": "[encoded data removed]",
      "text/plain": [
       "<IPython.core.display.Image object>"
      ]
     },
     "execution_count": 37,
     "metadata": {},
     "output_type": "execute_result"
    }
   ],
   "source": [
    "Image(filename='3testoutputpic2.png')"
   ]
  },
  {
   "cell_type": "code",
   "execution_count": 38,
   "metadata": {},
   "outputs": [
    {
     "data": {
      "image/png": "[encoded data removed]",
      "text/plain": [
       "<IPython.core.display.Image object>"
      ]
     },
     "execution_count": 38,
     "metadata": {},
     "output_type": "execute_result"
    }
   ],
   "source": [
    "Image(filename='4testoutputpic2.png')"
   ]
  },
  {
   "cell_type": "code",
   "execution_count": 39,
   "metadata": {},
   "outputs": [
    {
     "data": {
      "image/png": "[encoded data removed]",
      "text/plain": [
       "<IPython.core.display.Image object>"
      ]
     },
     "execution_count": 39,
     "metadata": {},
     "output_type": "execute_result"
    }
   ],
   "source": [
    "Image(filename='5testoutputpic2.png')"
   ]
  },
  {
   "cell_type": "code",
   "execution_count": 40,
   "metadata": {},
   "outputs": [
    {
     "data": {
      "image/png": "[encoded data removed]",
      "text/plain": [
       "<IPython.core.display.Image object>"
      ]
     },
     "execution_count": 40,
     "metadata": {},
     "output_type": "execute_result"
    }
   ],
   "source": [
    "Image(filename='6testoutputpic2.png')"
   ]
  },
  {
   "cell_type": "code",
   "execution_count": 41,
   "metadata": {},
   "outputs": [],
   "source": [
    "#Image(filename='7testoutputpic2.png')"
   ]
  },
  {
   "cell_type": "markdown",
   "metadata": {},
   "source": [
    "Here is after application of he second kernel."
   ]
  },
  {
   "cell_type": "code",
   "execution_count": null,
   "metadata": {},
   "outputs": [],
   "source": []
  }
 ],
 "metadata": {
  "kernelspec": {
   "display_name": "Python 2",
   "language": "python",
   "name": "python2"
  },
  "language_info": {
   "codemirror_mode": {
    "name": "ipython",
    "version": 2
   },
   "file_extension": ".py",
   "mimetype": "text/x-python",
   "name": "python",
   "nbconvert_exporter": "python",
   "pygments_lexer": "ipython2",
   "version": "2.7.15"
  }
 },
 "nbformat": 4,
 "nbformat_minor": 2
}
