{
 "cells": [
  {
   "cell_type": "code",
   "execution_count": 1,
   "metadata": {},
   "outputs": [
    {
     "name": "stderr",
     "output_type": "stream",
     "text": [
      "Using plaidml.keras.backend backend.\n"
     ]
    },
    {
     "name": "stdout",
     "output_type": "stream",
     "text": [
      "<module 'keras.metrics' from '/Users/jonathanmiller/plaidml-venv/lib/python2.7/site-packages/keras/metrics.pyc'> ['K', 'MAE', 'MAPE', 'MSE', 'MSLE', '__builtins__', '__doc__', '__file__', '__name__', '__package__', 'absolute_import', 'binary_accuracy', 'binary_crossentropy', 'categorical_accuracy', 'categorical_crossentropy', 'cosine', 'cosine_proximity', 'deserialize', 'deserialize_keras_object', 'division', 'get', 'hinge', 'kullback_leibler_divergence', 'logcosh', 'mae', 'mape', 'mean_absolute_error', 'mean_absolute_percentage_error', 'mean_squared_error', 'mean_squared_logarithmic_error', 'mse', 'msle', 'poisson', 'print_function', 'serialize', 'serialize_keras_object', 'six', 'sparse_categorical_accuracy', 'sparse_categorical_crossentropy', 'sparse_top_k_categorical_accuracy', 'squared_hinge', 'top_k_categorical_accuracy']\n"
     ]
    }
   ],
   "source": [
    "import numpy as np\n",
    "import os\n",
    "import time\n",
    "\n",
    "os.environ[\"KERAS_BACKEND\"] = \"plaidml.keras.backend\"\n",
    "\n",
    "import keras\n",
    "import keras.applications as kapp\n",
    "from keras.datasets import cifar10\n",
    "from keras.layers import Input, Conv2D, MaxPooling2D, Dense, Activation, Dropout, Flatten\n",
    "from keras.optimizers import SGD\n",
    "\n",
    "from keras.models import Sequential\n",
    "\n",
    "import png as png\n",
    "from keras import metrics\n",
    "\n",
    "print metrics,dir(metrics)\n",
    "from keras import backend as K\n",
    "\n",
    "(x_train, y_train), (x_test, y_test) = cifar10.load_data()\n",
    "batch_size = 40\n",
    "testb_size = 40\n",
    "x_testb = x_train[:testb_size]\n",
    "#x_train = np.repeat(np.repeat(x_train, 7, axis=1), 7, axis=2)\n",
    "num_classes=11\n",
    "\n",
    "epochs = 6"
   ]
  },
  {
   "cell_type": "markdown",
   "metadata": {},
   "source": [
    "I am using KERAS because it is one of the most friendly (in python) of high level interfaces. I am using plaidml because I develop on OS X and OS X machines do not generally have NVIDIA processors (this is one of the points where developing in OS X is a disadvantage). KERAS can do models in several different ways, I use one of the ways below.\n",
    "\n",
    "I am using the png library for image visualization instead of matplotlib isn't being very friendly to OS X right now.\n",
    "\n",
    "Here I set the batch size to 40. In our studies of DCNN for the vertex finding problem we found that generally you want the batch size to be 50 or above.\n",
    "\n",
    "There are 10 classes in the cifar10 library (a small small image library that is a standard dataset in KERAS). We set the total epochs to 6."
   ]
  },
  {
   "cell_type": "code",
   "execution_count": 2,
   "metadata": {},
   "outputs": [],
   "source": [
    "for i in range(3):\n",
    "    features_i = x_train[i,::]\n",
    "    mag=7\n",
    "    #print features_i,features_i.shape\n",
    "    features_i = np.repeat(np.repeat(features_i, mag, axis=0), mag, axis=1)\n",
    "    im = np.transpose(features_i,(1,2,0))\n",
    "    height, width, depth = features_i.shape\n",
    "    name = str(i)+'testinput.png'\n",
    "    fpng = open(name, 'wb')\n",
    "    w = png.Writer(width,height)\n",
    "    pngWriter = png.Writer(width, height,\n",
    "                           greyscale=False,\n",
    "                           alpha=False,\n",
    "                           bitdepth=16)\n",
    "    w.write(fpng,np.reshape(features_i, (-1, width*3)))\n",
    "    fpng.close()"
   ]
  },
  {
   "cell_type": "markdown",
   "metadata": {},
   "source": [
    "This sell is to create png images for visualization. This is to visualize the images that we are going to be classifying. You can use the nice python features to be sure you have the shapes right which is one of the things to be more careful about in both python and DCNN work."
   ]
  },
  {
   "cell_type": "code",
   "execution_count": 3,
   "metadata": {},
   "outputs": [],
   "source": [
    "from IPython.display import Image\n"
   ]
  },
  {
   "cell_type": "code",
   "execution_count": 4,
   "metadata": {},
   "outputs": [
    {
     "data": {
      "image/png": "[encoded data removed]",
      "text/plain": [
       "<IPython.core.display.Image object>"
      ]
     },
     "execution_count": 4,
     "metadata": {},
     "output_type": "execute_result"
    }
   ],
   "source": [
    "Image(filename='1testinput.png') "
   ]
  },
  {
   "cell_type": "code",
   "execution_count": 5,
   "metadata": {},
   "outputs": [
    {
     "data": {
      "image/png": "[encoded data removed]",
      "text/plain": [
       "<IPython.core.display.Image object>"
      ]
     },
     "execution_count": 5,
     "metadata": {},
     "output_type": "execute_result"
    }
   ],
   "source": [
    "Image(filename='2testinput.png') "
   ]
  },
  {
   "cell_type": "code",
   "execution_count": 6,
   "metadata": {},
   "outputs": [
    {
     "data": {
      "image/png": "[encoded data removed]",
      "text/plain": [
       "<IPython.core.display.Image object>"
      ]
     },
     "execution_count": 6,
     "metadata": {},
     "output_type": "execute_result"
    }
   ],
   "source": [
    "Image(filename='0testinput.png') "
   ]
  },
  {
   "cell_type": "code",
   "execution_count": 7,
   "metadata": {},
   "outputs": [
    {
     "name": "stderr",
     "output_type": "stream",
     "text": [
      "INFO:plaidml:Opening device \"metal_intel(r)_iris(tm)_plus_graphics_640.0\"\n"
     ]
    }
   ],
   "source": [
    "y_train = keras.utils.to_categorical(y_train, num_classes)\n",
    "y_test = keras.utils.to_categorical(y_test, num_classes)\n",
    "\n",
    "\n",
    "model = Sequential()\n",
    "\n",
    "firstlayer=Conv2D(8, (3, 3), activation='relu', input_shape=(32, 32, 3))\n",
    "model.add(firstlayer)\n",
    "model.add(Conv2D(8, (3, 3), activation='relu'))\n",
    "model.add(Conv2D(16, (3, 3), activation='relu'))\n",
    "model.add(Conv2D(16, (3, 3), activation='relu'))"
   ]
  },
  {
   "cell_type": "code",
   "execution_count": 8,
   "metadata": {},
   "outputs": [],
   "source": [
    "model.add(Dropout(0.25))\n",
    "\n"
   ]
  },
  {
   "cell_type": "code",
   "execution_count": 9,
   "metadata": {},
   "outputs": [],
   "source": [
    "model.add(Flatten())\n",
    "model.add(Dense(6, activation='relu'))\n",
    "model.add(Dropout(0.5))\n",
    "model.add(Dense(32, activation='relu'))\n",
    "model.add(Dense(num_classes, activation='softmax'))"
   ]
  },
  {
   "cell_type": "code",
   "execution_count": 10,
   "metadata": {},
   "outputs": [
    {
     "name": "stdout",
     "output_type": "stream",
     "text": [
      "_________________________________________________________________\n",
      "Layer (type)                 Output Shape              Param #   \n",
      "=================================================================\n",
      "conv2d_1 (Conv2D)            (None, 30, 30, 8)         224       \n",
      "_________________________________________________________________\n",
      "conv2d_2 (Conv2D)            (None, 28L, 28L, 8)       584       \n",
      "_________________________________________________________________\n",
      "conv2d_3 (Conv2D)            (None, 26L, 26L, 16)      1168      \n",
      "_________________________________________________________________\n",
      "conv2d_4 (Conv2D)            (None, 24L, 24L, 16)      2320      \n",
      "_________________________________________________________________\n",
      "dropout_1 (Dropout)          (None, 24L, 24L, 16L)     0         \n",
      "_________________________________________________________________\n",
      "flatten_1 (Flatten)          (None, 9216)              0         \n",
      "_________________________________________________________________\n",
      "dense_1 (Dense)              (None, 6)                 55302     \n",
      "_________________________________________________________________\n",
      "dropout_2 (Dropout)          (None, 6L)                0         \n",
      "_________________________________________________________________\n",
      "dense_2 (Dense)              (None, 32)                224       \n",
      "_________________________________________________________________\n",
      "dense_3 (Dense)              (None, 11)                363       \n",
      "=================================================================\n",
      "Total params: 60,185\n",
      "Trainable params: 60,185\n",
      "Non-trainable params: 0\n",
      "_________________________________________________________________\n"
     ]
    }
   ],
   "source": [
    "sgd = SGD(lr=0.01, decay=1e-6, momentum=0.9, nesterov=True)\n",
    "model.compile(loss='mean_squared_error', optimizer=sgd,metrics=['categorical_accuracy'])\n",
    "model.summary()"
   ]
  },
  {
   "cell_type": "markdown",
   "metadata": {},
   "source": [
    "Here we created the simply network. The shapes are important as are the number of parameters. You can see that while a lot of the work is done in the convolutional layers that most of the paramters are in the first dense layer. That is often the usual, here I have decreased the shape of the first dense layer to try and focus on the use of the convolutional layers.\n",
    "\n",
    "A possibly outdated rule of thumb was that you should have 10 times more events or images than you have parameters.\n",
    "\n",
    "Remember that dropout basically forces the NN to learn alternate representations of the image. We could probably make it more robust by adding additional dropout layers."
   ]
  },
  {
   "cell_type": "code",
   "execution_count": 11,
   "metadata": {},
   "outputs": [],
   "source": [
    "x_train = x_train.astype('float32')\n",
    "x_test = x_test.astype('float32')\n",
    "x_testb = x_testb.astype('float32')\n",
    "x_train /= 255\n",
    "x_test /= 255\n",
    "x_testb /= 255\n",
    "\n",
    "\n",
    "firstlayerw = firstlayer.get_weights()[0][:,:,0,:]"
   ]
  },
  {
   "cell_type": "code",
   "execution_count": 12,
   "metadata": {},
   "outputs": [],
   "source": [
    "for i in range(2):\n",
    "    name = str(i)+'testinputkernely.png'\n",
    "    fpng = open(name, 'wb')\n",
    "    mag=100\n",
    "    w = png.Writer(3*mag,3*mag)\n",
    "    im = np.repeat(np.repeat(firstlayerw[:,:,i]+0.5, mag, axis=0), mag, axis=1)\n",
    "    im=im*255\n",
    "    #print firstlayerw[:,:,i],firstlayerw[:,:,i].shape\n",
    "    #print im,im.shape\n",
    "    pngWriter = png.Writer(width, height,\n",
    "                           greyscale=True,\n",
    "                           alpha=False,\n",
    "                           bitdepth=16)\n",
    "    w.write(fpng,im)\n",
    "    fpng.close()"
   ]
  },
  {
   "cell_type": "code",
   "execution_count": 13,
   "metadata": {},
   "outputs": [
    {
     "data": {
      "image/png": "[encoded data removed]",
      "text/plain": [
       "<IPython.core.display.Image object>"
      ]
     },
     "execution_count": 13,
     "metadata": {},
     "output_type": "execute_result"
    }
   ],
   "source": [
    "Image(filename='0testinputkernely.png')"
   ]
  },
  {
   "cell_type": "code",
   "execution_count": 14,
   "metadata": {},
   "outputs": [],
   "source": [
    "#help(png)"
   ]
  },
  {
   "cell_type": "code",
   "execution_count": 15,
   "metadata": {},
   "outputs": [
    {
     "data": {
      "image/png": "[encoded data removed]",
      "text/plain": [
       "<IPython.core.display.Image object>"
      ]
     },
     "execution_count": 15,
     "metadata": {},
     "output_type": "execute_result"
    }
   ],
   "source": [
    "Image(filename='1testinputkernely.png')"
   ]
  },
  {
   "cell_type": "code",
   "execution_count": null,
   "metadata": {},
   "outputs": [
    {
     "name": "stdout",
     "output_type": "stream",
     "text": [
      "Train on 50000 samples, validate on 10000 samples\n",
      "Epoch 1/6\n"
     ]
    },
    {
     "name": "stderr",
     "output_type": "stream",
     "text": [
      "INFO:plaidml:Analyzing Ops: 134 of 262 operations complete\n"
     ]
    },
    {
     "name": "stdout",
     "output_type": "stream",
     "text": [
      "50000/50000 [==============================] - 75s 1ms/step - loss: 0.0824 - categorical_accuracy: 0.1044 - val_loss: 0.0822 - val_categorical_accuracy: 0.0881\n",
      "Epoch 2/6\n",
      "50000/50000 [==============================] - 71s 1ms/step - loss: 0.0819 - categorical_accuracy: 0.1055 - val_loss: 0.0813 - val_categorical_accuracy: 0.1698\n",
      "Epoch 3/6\n",
      "49960/50000 [============================>.] - ETA: 0s - loss: 0.0808 - categorical_accuracy: 0.1521"
     ]
    }
   ],
   "source": [
    "history=model.fit(x_train, y_train,\n",
    "          batch_size=batch_size,\n",
    "          epochs=epochs,\n",
    "          validation_data=(x_test, y_test),\n",
    "          shuffle=True)"
   ]
  },
  {
   "cell_type": "code",
   "execution_count": null,
   "metadata": {},
   "outputs": [],
   "source": [
    "firstlayerw = firstlayer.get_weights()[0][:,:,0,:]\n",
    "for i in range(2):\n",
    "    name = str(i)+'testoutputkernely.png'\n",
    "    fpng = open(name, 'wb')\n",
    "    mag=100\n",
    "    w = png.Writer(3*mag,3*mag)\n",
    "    im = np.repeat(np.repeat(firstlayerw[:,:,i]+0.5, mag, axis=0), mag, axis=1)\n",
    "    im=im*255\n",
    "    #print firstlayerw[:,:,i],firstlayerw[:,:,i].shape\n",
    "    #print im,im.shape\n",
    "    pngWriter = png.Writer(width, height,\n",
    "                           greyscale=True,\n",
    "                           alpha=False,\n",
    "                           bitdepth=16)\n",
    "    w.write(fpng,im)\n",
    "    fpng.close()"
   ]
  },
  {
   "cell_type": "code",
   "execution_count": null,
   "metadata": {},
   "outputs": [],
   "source": [
    "Image(filename='0testoutputkernely.png')"
   ]
  },
  {
   "cell_type": "code",
   "execution_count": null,
   "metadata": {},
   "outputs": [],
   "source": [
    "Image(filename='1testoutputkernely.png')"
   ]
  },
  {
   "cell_type": "code",
   "execution_count": null,
   "metadata": {},
   "outputs": [],
   "source": [
    "inp = model.input                                           # input placeholder\n",
    "outputs = [layer.output for layer in model.layers]          # all layer outputs\n",
    "functor = K.function([inp]+ [K.learning_phase()], outputs ) # evaluation function\n",
    "import ROOT as rt"
   ]
  },
  {
   "cell_type": "code",
   "execution_count": null,
   "metadata": {},
   "outputs": [],
   "source": [
    "print(history.history.keys())\n",
    "c1=rt.TCanvas( 'c1', '', 200, 10, 700, 900 )\n",
    "def fill_hist(hist, array):\n",
    "     [hist.Fill(_) for _ in array]\n",
    "a1 = rt.TH1F('hist1', 'hist1', 100, 0, 100) \n",
    "a2 = rt.TH1F('hist2', 'hist2', 100, 0, 100)       \n",
    "print dir(rt)\n",
    "fill_hist(a1,history.history['categorical_accuracy'])\n",
    "fill_hist(a2,history.history['val_categorical_accuracy'])\n",
    "a1.Draw(\"\")\n",
    "a2.Draw(\"same\")\n",
    "c1.Modified()\n",
    "c1.Update()\n",
    "rt.gROOT.GetListOfCanvases().Draw()"
   ]
  },
  {
   "cell_type": "code",
   "execution_count": null,
   "metadata": {},
   "outputs": [],
   "source": [
    "for i in range(1):\n",
    "    #print x_testb.shape\n",
    "    features_i = x_testb[3,::]*255\n",
    "    #print features_i,features_i.shape\n",
    "    mag=7\n",
    "    #print features_i\n",
    "    features_i = np.repeat(np.repeat(features_i, mag, axis=0), mag, axis=1)\n",
    "    im = np.transpose(features_i,(1,2,0))\n",
    "    height, width, depth = features_i.shape\n",
    "    name = str(i)+'testinputpic.png'\n",
    "    fpng = open(name, 'wb')\n",
    "    w = png.Writer(width,height)\n",
    "    pngWriter = png.Writer(width, height,\n",
    "                           greyscale=False,\n",
    "                           alpha=False,\n",
    "                           bitdepth=16)\n",
    "    w.write(fpng,np.reshape(features_i, (-1, width*3)))\n",
    "    fpng.close()"
   ]
  },
  {
   "cell_type": "code",
   "execution_count": null,
   "metadata": {},
   "outputs": [],
   "source": [
    "Image(filename='0testinputpic.png')"
   ]
  },
  {
   "cell_type": "code",
   "execution_count": null,
   "metadata": {},
   "outputs": [],
   "source": [
    "layer_outs = functor([x_testb, 1.])\n",
    "for i in range(7):\n",
    "    #print x_testb.shape\n",
    "    features_i = layer_outs[0][3]*125\n",
    "    #print features_i.shape\n",
    "    mag=7\n",
    "    #print features_i\n",
    "    features_i = np.repeat(np.repeat(features_i, mag, axis=0), mag, axis=1)\n",
    "    im = np.transpose(features_i,(2,1,0))\n",
    "    print im.shape,im[i].shape\n",
    "    #im = np.transpose(im[0],(2,1,0))\n",
    "    height, width =im[i].shape\n",
    "    name = str(i)+'testoutputpic.png'\n",
    "    fpng = open(name, 'wb')\n",
    "    print width,height\n",
    "    w = png.Writer(width,height)\n",
    "    pngWriter = png.Writer(width, height,\n",
    "                           greyscale=True,\n",
    "                           alpha=False,\n",
    "                           bitdepth=16)\n",
    "    w.write(fpng,np.reshape(im[i], (-1, width*1)))\n",
    "    fpng.close()\n"
   ]
  },
  {
   "cell_type": "code",
   "execution_count": null,
   "metadata": {},
   "outputs": [],
   "source": [
    "Image(filename='0testoutputpic.png')"
   ]
  },
  {
   "cell_type": "code",
   "execution_count": null,
   "metadata": {},
   "outputs": [],
   "source": [
    "Image(filename='1testoutputpic.png')"
   ]
  },
  {
   "cell_type": "code",
   "execution_count": null,
   "metadata": {},
   "outputs": [],
   "source": [
    "Image(filename='2testoutputpic.png')"
   ]
  },
  {
   "cell_type": "code",
   "execution_count": null,
   "metadata": {},
   "outputs": [],
   "source": [
    "Image(filename='3testoutputpic.png')"
   ]
  },
  {
   "cell_type": "code",
   "execution_count": null,
   "metadata": {},
   "outputs": [],
   "source": [
    "Image(filename='4testoutputpic.png')"
   ]
  },
  {
   "cell_type": "code",
   "execution_count": null,
   "metadata": {},
   "outputs": [],
   "source": [
    "Image(filename='5testoutputpic.png')"
   ]
  },
  {
   "cell_type": "code",
   "execution_count": null,
   "metadata": {},
   "outputs": [],
   "source": [
    "Image(filename='6testoutputpic.png')"
   ]
  },
  {
   "cell_type": "code",
   "execution_count": null,
   "metadata": {},
   "outputs": [],
   "source": [
    "#Image(filename='7testoutputpic.png')"
   ]
  },
  {
   "cell_type": "code",
   "execution_count": null,
   "metadata": {},
   "outputs": [],
   "source": [
    "for i in range(7):\n",
    "    #print x_testb.shape\n",
    "    features_i = layer_outs[1][3]*125\n",
    "    #print features_i.shape\n",
    "    mag=7\n",
    "    #print features_i\n",
    "    features_i = np.repeat(np.repeat(features_i, mag, axis=0), mag, axis=1)\n",
    "    im = np.transpose(features_i,(2,1,0))\n",
    "    #print im.shape,im[i].shape\n",
    "    #im = np.transpose(im[0],(2,1,0))\n",
    "    height, width =im[i].shape\n",
    "    name = str(i)+'testoutputpic2.png'\n",
    "    fpng = open(name, 'wb')\n",
    "    print width,height\n",
    "    w = png.Writer(width,height)\n",
    "    pngWriter = png.Writer(width, height,\n",
    "                           greyscale=True,\n",
    "                           alpha=False,\n",
    "                           bitdepth=16)\n",
    "    w.write(fpng,np.reshape(im[i], (-1, width*1)))\n",
    "    fpng.close()"
   ]
  },
  {
   "cell_type": "code",
   "execution_count": null,
   "metadata": {},
   "outputs": [],
   "source": [
    "Image(filename='0testoutputpic2.png')"
   ]
  },
  {
   "cell_type": "code",
   "execution_count": null,
   "metadata": {},
   "outputs": [],
   "source": [
    "Image(filename='1testoutputpic2.png')"
   ]
  },
  {
   "cell_type": "code",
   "execution_count": null,
   "metadata": {},
   "outputs": [],
   "source": [
    "Image(filename='2testoutputpic2.png')"
   ]
  },
  {
   "cell_type": "code",
   "execution_count": null,
   "metadata": {},
   "outputs": [],
   "source": [
    "Image(filename='3testoutputpic2.png')"
   ]
  },
  {
   "cell_type": "code",
   "execution_count": null,
   "metadata": {},
   "outputs": [],
   "source": [
    "Image(filename='4testoutputpic2.png')"
   ]
  },
  {
   "cell_type": "code",
   "execution_count": null,
   "metadata": {},
   "outputs": [],
   "source": [
    "Image(filename='5testoutputpic2.png')"
   ]
  },
  {
   "cell_type": "code",
   "execution_count": null,
   "metadata": {},
   "outputs": [],
   "source": [
    "Image(filename='6testoutputpic2.png')"
   ]
  },
  {
   "cell_type": "code",
   "execution_count": null,
   "metadata": {},
   "outputs": [],
   "source": [
    "#Image(filename='7testoutputpic2.png')"
   ]
  },
  {
   "cell_type": "code",
   "execution_count": null,
   "metadata": {},
   "outputs": [],
   "source": []
  },
  {
   "cell_type": "code",
   "execution_count": null,
   "metadata": {},
   "outputs": [],
   "source": []
  }
 ],
 "metadata": {
  "kernelspec": {
   "display_name": "Python 2",
   "language": "python",
   "name": "python2"
  },
  "language_info": {
   "codemirror_mode": {
    "name": "ipython",
    "version": 2
   },
   "file_extension": ".py",
   "mimetype": "text/x-python",
   "name": "python",
   "nbconvert_exporter": "python",
   "pygments_lexer": "ipython2",
   "version": "2.7.15"
  }
 },
 "nbformat": 4,
 "nbformat_minor": 2
}
